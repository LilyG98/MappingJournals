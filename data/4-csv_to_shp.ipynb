{
 "cells": [
  {
   "cell_type": "markdown",
   "metadata": {},
   "source": [
    "#### Pour pallier aux problèmes rencontrés sur QGIS lors de l'import de notre CSV,nous avons créé ce notebook pour convertir automatiquement nos .csv en .shp"
   ]
  },
  {
   "cell_type": "code",
   "execution_count": null,
   "metadata": {},
   "outputs": [],
   "source": [
    "import csv,sys\n",
    "import osgeo.ogr, osgeo.osr #we will need some packages\n",
    "from osgeo import ogr\n",
    "from osgeo import *\n",
    "import osgeo.osr as osr\n",
    "\n",
    "\n",
    "def test():\n",
    "    boolValue = True\n",
    "    canvas = qgis.utils.iface.mapCanvas()\n",
    "    spatialReference = osr.SpatialReference() #will create a spatial reference locally to tell the system what the reference will be\n",
    "    spatialReference.ImportFromEPSG(4326) #here we define this reference to be the EPSG code\n",
    "    driver = osgeo.ogr.GetDriverByName('ESRI Shapefile') # will select the driver for our shp-file creation.\n",
    "    export_shp = r'E:\\Folder'\n",
    "    shapeData = driver.CreateDataSource(export_shp) #so there we will store our data\n",
    "    outLayer = shapeData.CreateLayer(str('WaypointLayer'), spatialReference, osgeo.ogr.wkbPoint) #this will create a corresponding layer for our data with given spatial information.\n",
    "    outDataSource = driver.Open(export_shp, 1)\n",
    "    outLayer = outDataSource.GetLayer()\n",
    "    layer_defn = outLayer.GetLayerDefn() # gets parameters of the current shapefile\n",
    "    index = 0\n",
    "\n",
    "# Reading the CSV file\n",
    "    cnt = 0\n",
    "    input_file = r'E:\\Folder\\CSV\\points.csv' \n",
    "    with open(input_file, 'rb') as csvfile:\n",
    "        readerDict = csv.DictReader(csvfile)\n",
    "\n",
    "\n",
    "# Create the fields in the layer\n",
    "        for header in readerDict.fieldnames:\n",
    "            field_name = ogr.FieldDefn(header, ogr.OFTString)\n",
    "            field_name.SetWidth(50)\n",
    "            outLayer.CreateField(field_name)\n",
    "\n",
    "\n",
    "        for row in readerDict:\n",
    "            print (row['latitude'], row['longitude'])\n",
    "            point = osgeo.ogr.Geometry(osgeo.ogr.wkbPoint)\n",
    "            point.AddPoint(float(row['longitude']), float(row['latitude'])) #we do have LATs and LONs as Strings, so we convert them\n",
    "            feature = osgeo.ogr.Feature(layer_defn)\n",
    "            feature.SetGeometry(point) #set the coordinates\n",
    "            feature.SetFID(index)\n",
    "\n",
    "            for field in readerDict.fieldnames:\n",
    "                i = feature.GetFieldIndex(field)\n",
    "                feature.SetField(i, row[field])\n",
    "            outLayer.CreateFeature(feature)\n",
    "            index += 1\n",
    "    shapeData.Destroy()\n",
    "    outDataSource.Destroy()\n",
    "    conLayer = QgsVectorLayer(export_shp,'pointLayer',\"ogr\")\n",
    "    QgsMapLayerRegistry.instance().addMapLayer(conLayer)\n",
    "    canvas.refresh()"
   ]
  }
 ],
 "metadata": {
  "kernelspec": {
   "display_name": "Python 3",
   "language": "python",
   "name": "python3"
  },
  "language_info": {
   "codemirror_mode": {
    "name": "ipython",
    "version": 3
   },
   "file_extension": ".py",
   "mimetype": "text/x-python",
   "name": "python",
   "nbconvert_exporter": "python",
   "pygments_lexer": "ipython3",
   "version": "3.8.5"
  }
 },
 "nbformat": 4,
 "nbformat_minor": 4
}
