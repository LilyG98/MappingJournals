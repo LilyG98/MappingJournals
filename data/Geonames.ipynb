{
 "cells": [
  {
   "cell_type": "code",
   "execution_count": 1,
   "metadata": {
    "scrolled": true
   },
   "outputs": [],
   "source": [
    "import csv\n",
    "import pandas as pd\n",
    "import numpy as np\n",
    "import matplotlib as plt"
   ]
  },
  {
   "cell_type": "code",
   "execution_count": null,
   "metadata": {},
   "outputs": [
    {
     "name": "stderr",
     "output_type": "stream",
     "text": [
      "/home/humanum/anaconda3/lib/python3.8/site-packages/IPython/core/interactiveshell.py:3146: DtypeWarning: Columns (8,9,10,11,12,13) have mixed types.Specify dtype option on import or set low_memory=False.\n",
      "  has_raised = await self.run_ast_nodes(code_ast.body, cell_name,\n"
     ]
    }
   ],
   "source": [
    "df_allcountries = pd.read_csv(\"./Geonames/allCountries/allCountries.txt\",sep=\"\\t\")\n"
   ]
  },
  {
   "cell_type": "code",
   "execution_count": 1,
   "metadata": {
    "scrolled": true
   },
   "outputs": [
    {
     "ename": "NameError",
     "evalue": "name 'df_allcountries' is not defined",
     "output_type": "error",
     "traceback": [
      "\u001b[0;31m---------------------------------------------------------------------------\u001b[0m",
      "\u001b[0;31mNameError\u001b[0m                                 Traceback (most recent call last)",
      "\u001b[0;32m<ipython-input-1-baf15e725fdd>\u001b[0m in \u001b[0;36m<module>\u001b[0;34m\u001b[0m\n\u001b[1;32m      1\u001b[0m \u001b[0;31m#Exemple de recherche:\u001b[0m\u001b[0;34m\u001b[0m\u001b[0;34m\u001b[0m\u001b[0;34m\u001b[0m\u001b[0m\n\u001b[0;32m----> 2\u001b[0;31m \u001b[0mrow1\u001b[0m \u001b[0;34m=\u001b[0m \u001b[0mdf_allcountries\u001b[0m\u001b[0;34m.\u001b[0m\u001b[0mcolumns\u001b[0m\u001b[0;34m.\u001b[0m\u001b[0mtolist\u001b[0m\u001b[0;34m(\u001b[0m\u001b[0;34m)\u001b[0m\u001b[0;34m\u001b[0m\u001b[0;34m\u001b[0m\u001b[0m\n\u001b[0m\u001b[1;32m      3\u001b[0m \u001b[0mdf_allcountries\u001b[0m\u001b[0;34m.\u001b[0m\u001b[0mappend\u001b[0m\u001b[0;34m(\u001b[0m\u001b[0mrow1\u001b[0m\u001b[0;34m)\u001b[0m\u001b[0;34m\u001b[0m\u001b[0;34m\u001b[0m\u001b[0m\n\u001b[1;32m      4\u001b[0m \u001b[0mdf_allcountries\u001b[0m\u001b[0;34m.\u001b[0m\u001b[0mloc\u001b[0m\u001b[0;34m[\u001b[0m\u001b[0mdf_allcountries\u001b[0m\u001b[0;34m[\u001b[0m\u001b[0;34m\"Pic de Font Blanca\"\u001b[0m\u001b[0;34m]\u001b[0m\u001b[0;34m.\u001b[0m\u001b[0mstr\u001b[0m\u001b[0;34m.\u001b[0m\u001b[0mcontains\u001b[0m\u001b[0;34m(\u001b[0m\u001b[0;34m\"^China$\"\u001b[0m\u001b[0;34m)\u001b[0m\u001b[0;34m==\u001b[0m\u001b[0;32mTrue\u001b[0m\u001b[0;34m]\u001b[0m\u001b[0;34m\u001b[0m\u001b[0;34m\u001b[0m\u001b[0m\n",
      "\u001b[0;31mNameError\u001b[0m: name 'df_allcountries' is not defined"
     ]
    }
   ],
   "source": [
    "#Exemple de recherche: \n",
    "row1 = df_allcountries.columns.tolist()\n",
    "df_allcountries.append(row1)\n",
    "df_allcountries.loc[df_allcountries[\"Pic de Font Blanca\"].str.contains(\"^China$\")==True]"
   ]
  },
  {
   "cell_type": "code",
   "execution_count": 19,
   "metadata": {},
   "outputs": [],
   "source": [
    "df_allcountries=df_allcountries[['2986043', 'Pic de Font Blanca', \n",
    "       'Pic de Font Blanca,Pic du Port', '42.64991', '1.53335']]"
   ]
  },
  {
   "cell_type": "code",
   "execution_count": 20,
   "metadata": {},
   "outputs": [
    {
     "data": {
      "text/html": [
       "<div>\n",
       "<style scoped>\n",
       "    .dataframe tbody tr th:only-of-type {\n",
       "        vertical-align: middle;\n",
       "    }\n",
       "\n",
       "    .dataframe tbody tr th {\n",
       "        vertical-align: top;\n",
       "    }\n",
       "\n",
       "    .dataframe thead th {\n",
       "        text-align: right;\n",
       "    }\n",
       "</style>\n",
       "<table border=\"1\" class=\"dataframe\">\n",
       "  <thead>\n",
       "    <tr style=\"text-align: right;\">\n",
       "      <th></th>\n",
       "      <th>2986043</th>\n",
       "      <th>Pic de Font Blanca</th>\n",
       "      <th>Pic de Font Blanca,Pic du Port</th>\n",
       "      <th>42.64991</th>\n",
       "      <th>1.53335</th>\n",
       "    </tr>\n",
       "  </thead>\n",
       "  <tbody>\n",
       "    <tr>\n",
       "      <th>0</th>\n",
       "      <td>2994701</td>\n",
       "      <td>Roc Mélé</td>\n",
       "      <td>Roc Mele,Roc Meler,Roc Mélé</td>\n",
       "      <td>42.58765</td>\n",
       "      <td>1.74028</td>\n",
       "    </tr>\n",
       "    <tr>\n",
       "      <th>1</th>\n",
       "      <td>3007683</td>\n",
       "      <td>Pic des Langounelles</td>\n",
       "      <td>Pic des Langounelles</td>\n",
       "      <td>42.61203</td>\n",
       "      <td>1.47364</td>\n",
       "    </tr>\n",
       "    <tr>\n",
       "      <th>2</th>\n",
       "      <td>3017832</td>\n",
       "      <td>Pic de les Abelletes</td>\n",
       "      <td>Pic de la Font-Negre,Pic de la Font-Nègre,Pic ...</td>\n",
       "      <td>42.52535</td>\n",
       "      <td>1.73343</td>\n",
       "    </tr>\n",
       "    <tr>\n",
       "      <th>3</th>\n",
       "      <td>3017833</td>\n",
       "      <td>Estany de les Abelletes</td>\n",
       "      <td>Estany de les Abelletes,Etang de Font-Negre,Ét...</td>\n",
       "      <td>42.52915</td>\n",
       "      <td>1.73362</td>\n",
       "    </tr>\n",
       "    <tr>\n",
       "      <th>4</th>\n",
       "      <td>3023203</td>\n",
       "      <td>Port Vieux de la Coume d’Ose</td>\n",
       "      <td>Port Vieux de Coume d'Ose,Port Vieux de Coume ...</td>\n",
       "      <td>42.62568</td>\n",
       "      <td>1.61823</td>\n",
       "    </tr>\n",
       "    <tr>\n",
       "      <th>...</th>\n",
       "      <td>...</td>\n",
       "      <td>...</td>\n",
       "      <td>...</td>\n",
       "      <td>...</td>\n",
       "      <td>...</td>\n",
       "    </tr>\n",
       "    <tr>\n",
       "      <th>12093965</th>\n",
       "      <td>12218168</td>\n",
       "      <td>South China Sea</td>\n",
       "      <td>NaN</td>\n",
       "      <td>14.64735</td>\n",
       "      <td>115.63737</td>\n",
       "    </tr>\n",
       "    <tr>\n",
       "      <th>12093966</th>\n",
       "      <td>12225504</td>\n",
       "      <td>Polar Regions</td>\n",
       "      <td>NaN</td>\n",
       "      <td>85.00000</td>\n",
       "      <td>50.00000</td>\n",
       "    </tr>\n",
       "    <tr>\n",
       "      <th>12093967</th>\n",
       "      <td>12225505</td>\n",
       "      <td>World Ocean</td>\n",
       "      <td>NaN</td>\n",
       "      <td>0.00000</td>\n",
       "      <td>-150.00000</td>\n",
       "    </tr>\n",
       "    <tr>\n",
       "      <th>12093968</th>\n",
       "      <td>12232251</td>\n",
       "      <td>McMurdo Sound</td>\n",
       "      <td>NaN</td>\n",
       "      <td>-77.52694</td>\n",
       "      <td>165.01667</td>\n",
       "    </tr>\n",
       "    <tr>\n",
       "      <th>12093969</th>\n",
       "      <td>12232278</td>\n",
       "      <td>Bransfield Strait</td>\n",
       "      <td>NaN</td>\n",
       "      <td>-63.00000</td>\n",
       "      <td>-59.00000</td>\n",
       "    </tr>\n",
       "  </tbody>\n",
       "</table>\n",
       "<p>12093970 rows × 5 columns</p>\n",
       "</div>"
      ],
      "text/plain": [
       "           2986043            Pic de Font Blanca  \\\n",
       "0          2994701                      Roc Mélé   \n",
       "1          3007683          Pic des Langounelles   \n",
       "2          3017832          Pic de les Abelletes   \n",
       "3          3017833       Estany de les Abelletes   \n",
       "4          3023203  Port Vieux de la Coume d’Ose   \n",
       "...            ...                           ...   \n",
       "12093965  12218168               South China Sea   \n",
       "12093966  12225504                 Polar Regions   \n",
       "12093967  12225505                   World Ocean   \n",
       "12093968  12232251                 McMurdo Sound   \n",
       "12093969  12232278             Bransfield Strait   \n",
       "\n",
       "                             Pic de Font Blanca,Pic du Port  42.64991  \\\n",
       "0                               Roc Mele,Roc Meler,Roc Mélé  42.58765   \n",
       "1                                      Pic des Langounelles  42.61203   \n",
       "2         Pic de la Font-Negre,Pic de la Font-Nègre,Pic ...  42.52535   \n",
       "3         Estany de les Abelletes,Etang de Font-Negre,Ét...  42.52915   \n",
       "4         Port Vieux de Coume d'Ose,Port Vieux de Coume ...  42.62568   \n",
       "...                                                     ...       ...   \n",
       "12093965                                                NaN  14.64735   \n",
       "12093966                                                NaN  85.00000   \n",
       "12093967                                                NaN   0.00000   \n",
       "12093968                                                NaN -77.52694   \n",
       "12093969                                                NaN -63.00000   \n",
       "\n",
       "            1.53335  \n",
       "0           1.74028  \n",
       "1           1.47364  \n",
       "2           1.73343  \n",
       "3           1.73362  \n",
       "4           1.61823  \n",
       "...             ...  \n",
       "12093965  115.63737  \n",
       "12093966   50.00000  \n",
       "12093967 -150.00000  \n",
       "12093968  165.01667  \n",
       "12093969  -59.00000  \n",
       "\n",
       "[12093970 rows x 5 columns]"
      ]
     },
     "execution_count": 20,
     "metadata": {},
     "output_type": "execute_result"
    }
   ],
   "source": [
    "df_allcountries"
   ]
  },
  {
   "cell_type": "code",
   "execution_count": 22,
   "metadata": {},
   "outputs": [
    {
     "data": {
      "text/plain": [
       "['2986043',\n",
       " 'Pic de Font Blanca',\n",
       " 'Pic de Font Blanca,Pic du Port',\n",
       " '42.64991',\n",
       " '1.53335']"
      ]
     },
     "execution_count": 22,
     "metadata": {},
     "output_type": "execute_result"
    }
   ],
   "source": [
    "row1 = df_allcountries.columns.tolist()\n",
    "df_allcountries.append(row1)"
   ]
  },
  {
   "cell_type": "code",
   "execution_count": null,
   "metadata": {},
   "outputs": [],
   "source": []
  }
 ],
 "metadata": {
  "kernelspec": {
   "display_name": "Python 3",
   "language": "python",
   "name": "python3"
  },
  "language_info": {
   "codemirror_mode": {
    "name": "ipython",
    "version": 3
   },
   "file_extension": ".py",
   "mimetype": "text/x-python",
   "name": "python",
   "nbconvert_exporter": "python",
   "pygments_lexer": "ipython3",
   "version": "3.8.5"
  }
 },
 "nbformat": 4,
 "nbformat_minor": 4
}
