{
 "cells": [
  {
   "cell_type": "markdown",
   "metadata": {},
   "source": [
    "<h4>Lily Grumbach\n",
    "    <br>M1 Humanités numériques - Université PSL</h4>\n",
    "<h1><center>Rendu TAIS-TAL </center></h1>\n",
    "<h2><center>Partie TAIS</center></h2>\n",
    "<h3><center>2/3 : Extraire des bases de données à ma disposition les coordonnées des lieux et créer un dictionnaire de désambiguisation de mes données</center></h3>\n",
    "\n",
    "<b><u>PLAN:</u></b>\n",
    "1) Harmonisation des données Géopolitiques pour le fond de carte de 1914\n",
    "<br>\n",
    "    \n",
    "<h4>2) Reconstruire et adapter la base de l'IREL aux données à disposition</h4>\n",
    "<br/>\n",
    "    \n",
    "3) Géoréférencer les données de mes revues\n",
    "\n",
    "<b>Stratégie en place :  </b>\n",
    "\n",
    "Nous avons 3 sources possibles de désambiguisation : \n",
    "* **Wikidata** indiqués par le medialab \n",
    "* l'**IREL**, la base de données géographique de l'inventaire en ligne des Archives nationales d'Outre Mer\n",
    "* **Geonames**, pour le meilleur et pour le pire.\n",
    "\n",
    "<h3>Objectifs de la partie : </h3>\n",
    "1) A court terme : récupérer les coordonnées géographiques des lieux mentionnés dans notre revue\n",
    "\n",
    "\n",
    "2) A long terme : avoir à disposition une base de données géographique historique exploitable pour des projets futurs."
   ]
  },
  {
   "cell_type": "markdown",
   "metadata": {},
   "source": [
    "# Import des modules"
   ]
  },
  {
   "cell_type": "code",
   "execution_count": 1,
   "metadata": {},
   "outputs": [],
   "source": [
    "#module\n",
    "import desambiguisation\n",
    "##General : \n",
    "from desambiguisation import ListEntities2df\n",
    "##GPH\n",
    "from desambiguisation import MatchGPELOC_IREL,Extract_longlat_WikiData\n",
    "\n",
    "##IREL : \n",
    "from desambiguisation import nettoyage_df_IREL,urlencode,Extract_longlat_IREL,IREL_Nettoyage_AdminLieuDit\n",
    "\n",
    "#Généraux\n",
    "import pandas as pd\n",
    "import re\n",
    "import numpy as np\n",
    "\n",
    "#Webscrapping\n",
    "from bs4 import BeautifulSoup\n",
    "import geocoder\n",
    "from lxml import html\n",
    "import requests\n",
    "\n",
    "#Wikidata \n",
    "import qwikidata"
   ]
  },
  {
   "cell_type": "markdown",
   "metadata": {},
   "source": [
    "# 0. Les df de référence"
   ]
  },
  {
   "cell_type": "markdown",
   "metadata": {},
   "source": [
    "**AHMC**"
   ]
  },
  {
   "cell_type": "code",
   "execution_count": 2,
   "metadata": {
    "scrolled": true
   },
   "outputs": [
    {
     "name": "stdout",
     "output_type": "stream",
     "text": [
      "fichier créé dans ./desambiguisation/Revue_ParEntityLabel/AHMC/AHMCGPE_ents.csv\n",
      "Output:liste des entités GPE_ents \n",
      "\n",
      "fichier créé dans ./desambiguisation/Revue_ParEntityLabel/AHMC/AHMCLOC_ents.csv\n",
      "Output:liste des entités LOC_ents \n",
      "\n",
      "fichier créé dans ./desambiguisation/Revue_ParEntityLabel/AHMC/AHMCORG_ents.csv\n",
      "Output:liste des entités ORG_ents \n",
      "\n"
     ]
    }
   ],
   "source": [
    "##AHMC\n",
    "df_AHMC_annote = pd.read_csv('./df_annotes/dfAHMCannotations.csv')\n",
    "\n",
    "#Ne conserver qu'une partie du df\n",
    "df_AHMC_annote = df_AHMC_annote[[\"article_titre\",\"revue_annee\",\"GPE_ents\",\"LOC_ents\",\"ORG_ents\"]]\n",
    "\n",
    "#Extraire les entités GPE,LOC,ORG\n",
    "liste_GPEAHMC = ListEntities2df(df_AHMC_annote,\"AHMC\",\"GPE_ents\")\n",
    "liste_LOCAHMC = ListEntities2df(df_AHMC_annote,\"AHMC\",\"LOC_ents\")\n",
    "liste_ORGAHMC = ListEntities2df(df_AHMC_annote,\"AHMC\",\"ORG_ents\")"
   ]
  },
  {
   "cell_type": "markdown",
   "metadata": {},
   "source": [
    "**AMN**"
   ]
  },
  {
   "cell_type": "code",
   "execution_count": 3,
   "metadata": {},
   "outputs": [
    {
     "name": "stdout",
     "output_type": "stream",
     "text": [
      "fichier créé dans ./desambiguisation/Revue_ParEntityLabel/AMN/AMNGPE_ents.csv\n",
      "Output:liste des entités GPE_ents \n",
      "\n",
      "fichier créé dans ./desambiguisation/Revue_ParEntityLabel/AMN/AMNLOC_ents.csv\n",
      "Output:liste des entités LOC_ents \n",
      "\n",
      "fichier créé dans ./desambiguisation/Revue_ParEntityLabel/AMN/AMNORG_ents.csv\n",
      "Output:liste des entités ORG_ents \n",
      "\n"
     ]
    }
   ],
   "source": [
    "#AMN\n",
    "df_AMN_annote = pd.read_csv('./df_annotes/dfAMNannotations.csv')\n",
    "\n",
    "#Ne conserver qu'une partie du df\n",
    "df_AMN_annote = df_AMN_annote[[\"article_titre\",\"revue_annee\",\"GPE_ents\",\"LOC_ents\",\"ORG_ents\"]]\n",
    "\n",
    "#Extraire les entités GPE,LOC,ORG\n",
    "liste_GPEAMN = ListEntities2df(df_AMN_annote,\"AMN\",\"GPE_ents\")\n",
    "liste_LOCAMN = ListEntities2df(df_AMN_annote,\"AMN\",\"LOC_ents\")\n",
    "liste_ORGAMN = ListEntities2df(df_AMN_annote,\"AMN\",\"ORG_ents\")"
   ]
  },
  {
   "cell_type": "markdown",
   "metadata": {},
   "source": [
    "# 1. Désambiguisation de la liste des GPE et LOC"
   ]
  },
  {
   "cell_type": "code",
   "execution_count": 4,
   "metadata": {},
   "outputs": [
    {
     "name": "stdout",
     "output_type": "stream",
     "text": [
      "Nombre de lieux à annoter :  260\n"
     ]
    }
   ],
   "source": [
    "list_GPELOC = liste_GPEAMN+liste_LOCAMN+liste_LOCAHMC+liste_GPEAHMC\n",
    "print(\"Nombre de lieux à annoter : \",len(list_GPELOC))"
   ]
  },
  {
   "cell_type": "markdown",
   "metadata": {},
   "source": [
    "Dictionnaire et liste des Faux positifs relevés dans la liste :"
   ]
  },
  {
   "cell_type": "code",
   "execution_count": 5,
   "metadata": {},
   "outputs": [],
   "source": [
    "#dictionnaire pour la désambiguisation :\n",
    "Dico_desambiguisation = {\"Guinée Française\":[\"Guinée française\"],\n",
    "                         \"Côte d'Ivoire\":[\"côte d'Ivoire\"],\n",
    "                         \"Pak-Hoi\":[\"Pak-Hoï\",\"Pakhoï\"],\n",
    "                         \"Chengdu\":['Tchen-Tou','Tchentou'],\n",
    "                         \"Yunnan\":['Yun-Nam','Yun-Nan','Yunnam'],\n",
    "                         \"Hanoi\":[\"Hanoï\"],\n",
    "                         \"Laokay\":[\"Lao-kay\"],\n",
    "                         \"Côte d'Ivoire\":[\"Côte d\\'Ivoire\",\"côte d'Ivoire\"]\n",
    "                        }\n",
    "Liste_FP = [\"Annamite\",\"Annamites\",\"île\"]"
   ]
  },
  {
   "cell_type": "code",
   "execution_count": 6,
   "metadata": {},
   "outputs": [
    {
     "name": "stdout",
     "output_type": "stream",
     "text": [
      "Annamite\n",
      "Annamites\n",
      "île\n"
     ]
    }
   ],
   "source": [
    "#désambiguiser :\n",
    "for i in range(len(list_GPELOC)):\n",
    "    for (key,val) in Dico_desambiguisation.items():\n",
    "            for name in val:\n",
    "                if list_GPELOC[i]==name :\n",
    "                    list_GPELOC[i]=key\n",
    "\n",
    "#retirer lesfaux positifs :\n",
    "for FP in Liste_FP:\n",
    "    print(FP)\n",
    "    list_GPELOC.remove(FP)\n",
    "# list_GPELOC"
   ]
  },
  {
   "cell_type": "code",
   "execution_count": 7,
   "metadata": {},
   "outputs": [
    {
     "name": "stdout",
     "output_type": "stream",
     "text": [
      "avant dédoublonnage :  257\n",
      "après dédoublonnage :  225\n"
     ]
    }
   ],
   "source": [
    "#Retirer les doublons de la liste :\n",
    "print(\"avant dédoublonnage : \",len(list_GPELOC))\n",
    "list_GPELOC = list(dict.fromkeys(list_GPELOC))\n",
    "print(\"après dédoublonnage : \",len(list_GPELOC))"
   ]
  },
  {
   "cell_type": "code",
   "execution_count": 8,
   "metadata": {},
   "outputs": [],
   "source": [
    "#Mise en df pour exploitation plus tard\n",
    "df_GPELOC = pd.DataFrame({\"entités à annoter\":list_GPELOC})"
   ]
  },
  {
   "cell_type": "code",
   "execution_count": 9,
   "metadata": {},
   "outputs": [
    {
     "data": {
      "text/html": [
       "<div>\n",
       "<style scoped>\n",
       "    .dataframe tbody tr th:only-of-type {\n",
       "        vertical-align: middle;\n",
       "    }\n",
       "\n",
       "    .dataframe tbody tr th {\n",
       "        vertical-align: top;\n",
       "    }\n",
       "\n",
       "    .dataframe thead th {\n",
       "        text-align: right;\n",
       "    }\n",
       "</style>\n",
       "<table border=\"1\" class=\"dataframe\">\n",
       "  <thead>\n",
       "    <tr style=\"text-align: right;\">\n",
       "      <th></th>\n",
       "      <th>entités à annoter</th>\n",
       "    </tr>\n",
       "  </thead>\n",
       "  <tbody>\n",
       "    <tr>\n",
       "      <th>0</th>\n",
       "      <td>Acores</td>\n",
       "    </tr>\n",
       "    <tr>\n",
       "      <th>1</th>\n",
       "      <td>Algérie</td>\n",
       "    </tr>\n",
       "    <tr>\n",
       "      <th>2</th>\n",
       "      <td>Allemagne</td>\n",
       "    </tr>\n",
       "    <tr>\n",
       "      <th>3</th>\n",
       "      <td>Angleterre</td>\n",
       "    </tr>\n",
       "    <tr>\n",
       "      <th>4</th>\n",
       "      <td>Annam</td>\n",
       "    </tr>\n",
       "    <tr>\n",
       "      <th>...</th>\n",
       "      <td>...</td>\n",
       "    </tr>\n",
       "    <tr>\n",
       "      <th>220</th>\n",
       "      <td>lac Tchad.</td>\n",
       "    </tr>\n",
       "    <tr>\n",
       "      <th>221</th>\n",
       "      <td>île de Saint-Barthélémy</td>\n",
       "    </tr>\n",
       "    <tr>\n",
       "      <th>222</th>\n",
       "      <td>île de Saint-Martin</td>\n",
       "    </tr>\n",
       "    <tr>\n",
       "      <th>223</th>\n",
       "      <td>île de la Réunion</td>\n",
       "    </tr>\n",
       "    <tr>\n",
       "      <th>224</th>\n",
       "      <td>îles Saint-Pierre</td>\n",
       "    </tr>\n",
       "  </tbody>\n",
       "</table>\n",
       "<p>225 rows × 1 columns</p>\n",
       "</div>"
      ],
      "text/plain": [
       "           entités à annoter\n",
       "0                     Acores\n",
       "1                    Algérie\n",
       "2                  Allemagne\n",
       "3                 Angleterre\n",
       "4                      Annam\n",
       "..                       ...\n",
       "220               lac Tchad.\n",
       "221  île de Saint-Barthélémy\n",
       "222      île de Saint-Martin\n",
       "223        île de la Réunion\n",
       "224        îles Saint-Pierre\n",
       "\n",
       "[225 rows x 1 columns]"
      ]
     },
     "execution_count": 9,
     "metadata": {},
     "output_type": "execute_result"
    }
   ],
   "source": [
    "df_GPELOC"
   ]
  },
  {
   "cell_type": "markdown",
   "metadata": {},
   "source": [
    "# 2. Reconstituer les bases les coordonnées des BDD à ma disposition"
   ]
  },
  {
   "cell_type": "markdown",
   "metadata": {},
   "source": [
    "## 2.1. Importation et première exploration des BDD\n",
    "NB : je n'applique cela qu'aux BDD GPH et IREL car Geonames est beaucoup trop volumineux."
   ]
  },
  {
   "cell_type": "markdown",
   "metadata": {},
   "source": [
    "### 2.1.1. GPH "
   ]
  },
  {
   "cell_type": "code",
   "execution_count": 10,
   "metadata": {},
   "outputs": [
    {
     "data": {
      "text/html": [
       "<div>\n",
       "<style scoped>\n",
       "    .dataframe tbody tr th:only-of-type {\n",
       "        vertical-align: middle;\n",
       "    }\n",
       "\n",
       "    .dataframe tbody tr th {\n",
       "        vertical-align: top;\n",
       "    }\n",
       "\n",
       "    .dataframe thead th {\n",
       "        text-align: right;\n",
       "    }\n",
       "</style>\n",
       "<table border=\"1\" class=\"dataframe\">\n",
       "  <thead>\n",
       "    <tr style=\"text-align: right;\">\n",
       "      <th></th>\n",
       "      <th>GPH_code</th>\n",
       "      <th>NAME</th>\n",
       "      <th>continent</th>\n",
       "      <th>wikidata</th>\n",
       "      <th>wikidata_alt1</th>\n",
       "      <th>wikidata_alt2</th>\n",
       "      <th>wikidata_alt3</th>\n",
       "      <th>notes</th>\n",
       "    </tr>\n",
       "  </thead>\n",
       "  <tbody>\n",
       "    <tr>\n",
       "      <th>0</th>\n",
       "      <td>2</td>\n",
       "      <td>United States of America</td>\n",
       "      <td>America</td>\n",
       "      <td>http://www.wikidata.org/entity/Q30</td>\n",
       "      <td>NaN</td>\n",
       "      <td>NaN</td>\n",
       "      <td>NaN</td>\n",
       "      <td>NaN</td>\n",
       "    </tr>\n",
       "    <tr>\n",
       "      <th>1</th>\n",
       "      <td>3</td>\n",
       "      <td>Alaska</td>\n",
       "      <td>America</td>\n",
       "      <td>http://www.wikidata.org/entity/Q797</td>\n",
       "      <td>NaN</td>\n",
       "      <td>NaN</td>\n",
       "      <td>NaN</td>\n",
       "      <td>NaN</td>\n",
       "    </tr>\n",
       "    <tr>\n",
       "      <th>2</th>\n",
       "      <td>4</td>\n",
       "      <td>Hawaii</td>\n",
       "      <td>America</td>\n",
       "      <td>http://www.wikidata.org/entity/Q782</td>\n",
       "      <td>NaN</td>\n",
       "      <td>NaN</td>\n",
       "      <td>NaN</td>\n",
       "      <td>NaN</td>\n",
       "    </tr>\n",
       "    <tr>\n",
       "      <th>3</th>\n",
       "      <td>5</td>\n",
       "      <td>Virgin Islands</td>\n",
       "      <td>America</td>\n",
       "      <td>http://www.wikidata.org/entity/Q11703</td>\n",
       "      <td>NaN</td>\n",
       "      <td>NaN</td>\n",
       "      <td>NaN</td>\n",
       "      <td>NaN</td>\n",
       "    </tr>\n",
       "    <tr>\n",
       "      <th>4</th>\n",
       "      <td>6</td>\n",
       "      <td>Puerto Rico</td>\n",
       "      <td>America</td>\n",
       "      <td>http://www.wikidata.org/entity/Q1183</td>\n",
       "      <td>NaN</td>\n",
       "      <td>NaN</td>\n",
       "      <td>NaN</td>\n",
       "      <td>NaN</td>\n",
       "    </tr>\n",
       "    <tr>\n",
       "      <th>...</th>\n",
       "      <td>...</td>\n",
       "      <td>...</td>\n",
       "      <td>...</td>\n",
       "      <td>...</td>\n",
       "      <td>...</td>\n",
       "      <td>...</td>\n",
       "      <td>...</td>\n",
       "      <td>...</td>\n",
       "    </tr>\n",
       "    <tr>\n",
       "      <th>1223</th>\n",
       "      <td>9994</td>\n",
       "      <td>Ross Dependency</td>\n",
       "      <td>Oceania</td>\n",
       "      <td>http://www.wikidata.org/entity/Q203073</td>\n",
       "      <td>NaN</td>\n",
       "      <td>NaN</td>\n",
       "      <td>NaN</td>\n",
       "      <td>NaN</td>\n",
       "    </tr>\n",
       "    <tr>\n",
       "      <th>1224</th>\n",
       "      <td>9998</td>\n",
       "      <td>Concessions in China</td>\n",
       "      <td>World</td>\n",
       "      <td>https://www.wikidata.org/wiki/Q1376651</td>\n",
       "      <td>NaN</td>\n",
       "      <td>NaN</td>\n",
       "      <td>NaN</td>\n",
       "      <td>NaN</td>\n",
       "    </tr>\n",
       "    <tr>\n",
       "      <th>1225</th>\n",
       "      <td>9999</td>\n",
       "      <td>Inter-Allied Commission of Control</td>\n",
       "      <td>World</td>\n",
       "      <td>https://www.wikidata.org/wiki/Q1665892</td>\n",
       "      <td>NaN</td>\n",
       "      <td>NaN</td>\n",
       "      <td>NaN</td>\n",
       "      <td>NaN</td>\n",
       "    </tr>\n",
       "    <tr>\n",
       "      <th>1226</th>\n",
       "      <td>0</td>\n",
       "      <td>League of Nations</td>\n",
       "      <td>World</td>\n",
       "      <td>https://www.wikidata.org/wiki/Q38130</td>\n",
       "      <td>NaN</td>\n",
       "      <td>NaN</td>\n",
       "      <td>NaN</td>\n",
       "      <td>NaN</td>\n",
       "    </tr>\n",
       "    <tr>\n",
       "      <th>1227</th>\n",
       "      <td>1</td>\n",
       "      <td>United Nations</td>\n",
       "      <td>World</td>\n",
       "      <td>https://www.wikidata.org/wiki/Q1065</td>\n",
       "      <td>NaN</td>\n",
       "      <td>NaN</td>\n",
       "      <td>NaN</td>\n",
       "      <td>NaN</td>\n",
       "    </tr>\n",
       "  </tbody>\n",
       "</table>\n",
       "<p>1228 rows × 8 columns</p>\n",
       "</div>"
      ],
      "text/plain": [
       "      GPH_code                                NAME continent  \\\n",
       "0            2            United States of America   America   \n",
       "1            3                              Alaska   America   \n",
       "2            4                              Hawaii   America   \n",
       "3            5                      Virgin Islands   America   \n",
       "4            6                         Puerto Rico   America   \n",
       "...        ...                                 ...       ...   \n",
       "1223      9994                     Ross Dependency   Oceania   \n",
       "1224      9998                Concessions in China     World   \n",
       "1225      9999  Inter-Allied Commission of Control     World   \n",
       "1226         0                   League of Nations     World   \n",
       "1227         1                      United Nations     World   \n",
       "\n",
       "                                    wikidata wikidata_alt1 wikidata_alt2  \\\n",
       "0         http://www.wikidata.org/entity/Q30           NaN           NaN   \n",
       "1        http://www.wikidata.org/entity/Q797           NaN           NaN   \n",
       "2        http://www.wikidata.org/entity/Q782           NaN           NaN   \n",
       "3      http://www.wikidata.org/entity/Q11703           NaN           NaN   \n",
       "4       http://www.wikidata.org/entity/Q1183           NaN           NaN   \n",
       "...                                      ...           ...           ...   \n",
       "1223  http://www.wikidata.org/entity/Q203073           NaN           NaN   \n",
       "1224  https://www.wikidata.org/wiki/Q1376651           NaN           NaN   \n",
       "1225  https://www.wikidata.org/wiki/Q1665892           NaN           NaN   \n",
       "1226    https://www.wikidata.org/wiki/Q38130           NaN           NaN   \n",
       "1227     https://www.wikidata.org/wiki/Q1065           NaN           NaN   \n",
       "\n",
       "     wikidata_alt3 notes  \n",
       "0              NaN   NaN  \n",
       "1              NaN   NaN  \n",
       "2              NaN   NaN  \n",
       "3              NaN   NaN  \n",
       "4              NaN   NaN  \n",
       "...            ...   ...  \n",
       "1223           NaN   NaN  \n",
       "1224           NaN   NaN  \n",
       "1225           NaN   NaN  \n",
       "1226           NaN   NaN  \n",
       "1227           NaN   NaN  \n",
       "\n",
       "[1228 rows x 8 columns]"
      ]
     },
     "execution_count": 10,
     "metadata": {},
     "output_type": "execute_result"
    }
   ],
   "source": [
    "#import du df GPH entities avec lien wikidata\n",
    "with open (\"./GeoPolHist-202103/medialab-GeoPolHist-fb19b66/data/GeoPolHist_entities.csv\") as f :\n",
    "    df_wikiData = pd.read_csv(f)\n",
    "df_wikiData.rename(columns={\"GPH_name\":\"NAME\"})"
   ]
  },
  {
   "cell_type": "markdown",
   "metadata": {},
   "source": [
    "Pour ne conserver que les données qui nous intéressent, on le merge avec la base de données finale de la Partie 1"
   ]
  },
  {
   "cell_type": "code",
   "execution_count": 11,
   "metadata": {},
   "outputs": [],
   "source": [
    "#Importer le df de référence (jusqu'à 1914)\n",
    "df_MANUEL = pd.read_csv(\"./output_finaux/df_1914manuelCarto.csv\")\n",
    "\n",
    "#Merge avec les données complétées manuellement \n",
    "df_WikiQGIS=pd.merge(df_wikiData,df_MANUEL,how=\"right\",on=\"GPH_code\")\n",
    "\n",
    "#Export : \n",
    "df_WikiQGIS.to_csv(\"./WikiQGIS.csv\")"
   ]
  },
  {
   "cell_type": "markdown",
   "metadata": {},
   "source": [
    "###  2.1.2. IREL"
   ]
  },
  {
   "cell_type": "markdown",
   "metadata": {},
   "source": [
    "Nettoyer la base de donnée IREL (cf module)"
   ]
  },
  {
   "cell_type": "code",
   "execution_count": 12,
   "metadata": {
    "scrolled": false
   },
   "outputs": [
    {
     "name": "stdout",
     "output_type": "stream",
     "text": [
      "return: df_IREL nettoyé\n"
     ]
    }
   ],
   "source": [
    "dico_IREL ={}\n",
    "n=0\n",
    "\n",
    "with open('./IREL/liste_lieux_IREL.js','r') as f:\n",
    "    lignes = f.readlines()\n",
    "    \n",
    "    for l in lignes:\n",
    "        l=l.split(\"\\n\")\n",
    "        dico_IREL[n]=l\n",
    "        n+=1\n",
    "\n",
    "df_IREL = nettoyage_df_IREL(dico_IREL)"
   ]
  },
  {
   "cell_type": "markdown",
   "metadata": {},
   "source": [
    "### 2.1.3. Merge df_IREL et df_WikiData pour avoir les lieux présents dans les deux bases de données"
   ]
  },
  {
   "cell_type": "code",
   "execution_count": 13,
   "metadata": {},
   "outputs": [],
   "source": [
    "df_IREL=df_IREL.rename(columns={\"Lieu-dit\":\"NAME\"})\n",
    "df_wikiData=df_wikiData.rename(columns={\"GPH_name\":\"NAME\"})\n",
    "\n",
    "df_WikiIREL = pd.merge(df_wikiData,df_IREL,how=\"inner\",on=\"NAME\")\n",
    "\n",
    "#Attention : je drop les duplicatas sur les GPH_code pour avoir une idée plus géographique qu'historique:\n",
    "df_WikiIREL[\"GPH_code\"]=df_WikiIREL[\"GPH_code\"].drop_duplicates(keep=\"first\")\n",
    "\n",
    "#Ici onsouhaite avoirleurnombredans l'absolu,regardless of the GPH Status\n",
    "df_WikiIREL=df_WikiIREL.loc[df_WikiIREL[\"GPH_code\"].notnull()]"
   ]
  },
  {
   "cell_type": "markdown",
   "metadata": {},
   "source": [
    "### 2.1.4.  Explorations de nos df :"
   ]
  },
  {
   "cell_type": "markdown",
   "metadata": {},
   "source": [
    "=> visualisation du nombre d'entité par df"
   ]
  },
  {
   "cell_type": "code",
   "execution_count": 14,
   "metadata": {},
   "outputs": [
    {
     "data": {
      "text/html": [
       "<div>\n",
       "<style scoped>\n",
       "    .dataframe tbody tr th:only-of-type {\n",
       "        vertical-align: middle;\n",
       "    }\n",
       "\n",
       "    .dataframe tbody tr th {\n",
       "        vertical-align: top;\n",
       "    }\n",
       "\n",
       "    .dataframe thead th {\n",
       "        text-align: right;\n",
       "    }\n",
       "</style>\n",
       "<table border=\"1\" class=\"dataframe\">\n",
       "  <thead>\n",
       "    <tr style=\"text-align: right;\">\n",
       "      <th></th>\n",
       "      <th>df_IREL</th>\n",
       "      <th>df_wikiData</th>\n",
       "      <th>df_WikiQGIS</th>\n",
       "      <th>df_WikiIREL</th>\n",
       "      <th>df_GPELOC</th>\n",
       "    </tr>\n",
       "  </thead>\n",
       "  <tbody>\n",
       "    <tr>\n",
       "      <th>Nombre d'entités</th>\n",
       "      <td>14571</td>\n",
       "      <td>1228</td>\n",
       "      <td>203</td>\n",
       "      <td>87</td>\n",
       "      <td>225</td>\n",
       "    </tr>\n",
       "  </tbody>\n",
       "</table>\n",
       "</div>"
      ],
      "text/plain": [
       "                  df_IREL  df_wikiData  df_WikiQGIS  df_WikiIREL  df_GPELOC\n",
       "Nombre d'entités    14571         1228          203           87        225"
      ]
     },
     "execution_count": 14,
     "metadata": {},
     "output_type": "execute_result"
    }
   ],
   "source": [
    "df_comparaison_DF = pd.DataFrame({\"df_IREL\":len(df_IREL),\"df_wikiData\":len(df_wikiData),\"df_WikiQGIS\":len(df_WikiQGIS),\"df_WikiIREL\":len(df_WikiIREL),\"df_GPELOC\":len(df_GPELOC)},index=[\"Nombre d'entités\"])\n",
    "df_comparaison_DF"
   ]
  },
  {
   "cell_type": "markdown",
   "metadata": {},
   "source": [
    "Avoir une idée du nombre d'entités que je peux **à priori** (pour le meilleur comme pour le pire) trouver dans les deux bases de données : "
   ]
  },
  {
   "cell_type": "code",
   "execution_count": 15,
   "metadata": {},
   "outputs": [
    {
     "data": {
      "text/html": [
       "<div>\n",
       "<style scoped>\n",
       "    .dataframe tbody tr th:only-of-type {\n",
       "        vertical-align: middle;\n",
       "    }\n",
       "\n",
       "    .dataframe tbody tr th {\n",
       "        vertical-align: top;\n",
       "    }\n",
       "\n",
       "    .dataframe thead th {\n",
       "        text-align: right;\n",
       "    }\n",
       "</style>\n",
       "<table border=\"1\" class=\"dataframe\">\n",
       "  <thead>\n",
       "    <tr style=\"text-align: right;\">\n",
       "      <th></th>\n",
       "      <th>avec GPH</th>\n",
       "      <th>avec IREL</th>\n",
       "      <th>IRELxGPH</th>\n",
       "      <th>GPH en1914</th>\n",
       "    </tr>\n",
       "  </thead>\n",
       "  <tbody>\n",
       "    <tr>\n",
       "      <th>Nombre d'entités</th>\n",
       "      <td>23</td>\n",
       "      <td>103</td>\n",
       "      <td>11</td>\n",
       "      <td>11</td>\n",
       "    </tr>\n",
       "  </tbody>\n",
       "</table>\n",
       "</div>"
      ],
      "text/plain": [
       "                  avec GPH  avec IREL  IRELxGPH  GPH en1914\n",
       "Nombre d'entités        23        103        11          11"
      ]
     },
     "execution_count": 15,
     "metadata": {},
     "output_type": "execute_result"
    }
   ],
   "source": [
    "df_wikiData=df_wikiData.rename(columns={\"GPH_name\":\"NAME\"})\n",
    "df_GPELOC=df_GPELOC.rename(columns={\"entités à annoter\":\"NAME\"})\n",
    "\n",
    "#Nombre d'entités de GPELOC trouvable dans GPH: \n",
    "GPELOC_GPH =pd.merge(df_wikiData,df_GPELOC,how=\"inner\",on=\"NAME\")[[\"NAME\"]]\n",
    "\n",
    "#Nombre d'entités de GPELOC trouvable dans IREL: \n",
    "GPELOC_IREL =pd.merge(df_IREL,df_GPELOC,how=\"inner\",on=\"NAME\")[[\"NAME\"]]\n",
    "\n",
    "#Nombre d'entités de GPELOC dans IREL *et* das GPH : \n",
    "GPELOC_IRELGPH =pd.merge(df_WikiIREL,df_GPELOC,how=\"inner\",on=\"NAME\")[[\"NAME\"]]\n",
    "\n",
    "#Nombre d'entités de GPELOC dans GPH en 1914 :\n",
    "GPELOC_GPH1914 =pd.merge(df_WikiQGIS,df_GPELOC,how=\"inner\",on=\"NAME\")[[\"NAME\"]]\n",
    "\n",
    "df_comparaison_GPELOC = pd.DataFrame({\"avec GPH\":len(GPELOC_GPH),\"avec IREL\":len(GPELOC_IREL),\"IRELxGPH\":len(GPELOC_IRELGPH),\"GPH en1914\":len(GPELOC_GPH1914)},index=[\"Nombre d'entités\"])\n",
    "df_comparaison_GPELOC"
   ]
  },
  {
   "cell_type": "code",
   "execution_count": 16,
   "metadata": {},
   "outputs": [
    {
     "data": {
      "text/plain": [
       "126"
      ]
     },
     "execution_count": 16,
     "metadata": {},
     "output_type": "execute_result"
    }
   ],
   "source": [
    "liste_ent_trouvables = GPELOC_GPH['NAME'].tolist()+GPELOC_IREL['NAME'].tolist()\n",
    "len(liste_ent_trouvables)\n",
    "# GPELOC_IREL['NAME'].tolist()"
   ]
  },
  {
   "cell_type": "markdown",
   "metadata": {},
   "source": [
    "**A l'issue de cette première étude, on en conclut la stratégie d'action suivante:**\n",
    "\n",
    "   1) Trouver les `23 GPELOC` de la base de données `GPH` => Les retirer de la liste de recherche des GPELOC\n",
    "\n",
    "   2) Dans `IREL`, chercher les 103-11=`92 noms` de lieux restant \n",
    "\n",
    "   3) Chercher les 225-126 = `99` entités restantes avec `Geonames`"
   ]
  },
  {
   "cell_type": "markdown",
   "metadata": {},
   "source": [
    "## 2.2. Retrouver les coordonnées géographiques de chaque base de donnée"
   ]
  },
  {
   "cell_type": "markdown",
   "metadata": {},
   "source": [
    "### 2.2.1. GPH : retrouver par WikiData les coordonnées de tous les lieux \n",
    "=> La méthode que nous avons mis en place pour récupérer l'ensemble des coordonnées n'a pas été concluante malgré les nombreux efforts pour éviter l'ensemble des messages d'erreur provenant de WikiData."
   ]
  },
  {
   "cell_type": "code",
   "execution_count": 17,
   "metadata": {},
   "outputs": [
    {
     "data": {
      "text/plain": [
       "<AxesSubplot:title={'center':'Proportion des lieux par continent présents sur IREL ET dans la bdd GPHE'}>"
      ]
     },
     "execution_count": 17,
     "metadata": {},
     "output_type": "execute_result"
    },
    {
     "data": {
      "image/png": "[encoded data removed]",
      "text/plain": [
       "<Figure size 432x288 with 1 Axes>"
      ]
     },
     "metadata": {
      "needs_background": "light"
     },
     "output_type": "display_data"
    }
   ],
   "source": [
    "#Un plot pour avoir une idée des entités par continent que l'on trouve dans les deux \n",
    "\n",
    "df_WikiIREL[\"continent\"].value_counts().plot.bar(title='Proportion des lieux par continent présents sur IREL ET dans la bdd GPHE')"
   ]
  },
  {
   "cell_type": "code",
   "execution_count": 18,
   "metadata": {},
   "outputs": [],
   "source": [
    "from qwikidata.entity import WikidataItem, WikidataLexeme, WikidataProperty\n",
    "from qwikidata.linked_data_interface import get_entity_dict_from_api"
   ]
  },
  {
   "cell_type": "code",
   "execution_count": 19,
   "metadata": {},
   "outputs": [],
   "source": [
    "pattern = r\"(Q\\d+)\"\n",
    "df_wikiData[\"Q_code\"] = df_wikiData[\"wikidata\"].str.extract(pattern)"
   ]
  },
  {
   "cell_type": "code",
   "execution_count": 20,
   "metadata": {},
   "outputs": [],
   "source": [
    "#Méthode en question (cf la fonction Extract_longlat_WikiData dans le module) : \n",
    "\n",
    "# pattern = r\"(Q\\d+)\"\n",
    "# df_wikiData[\"Q_code\"] = df_wikiData[\"wikidata\"].str.extract(pattern)\n",
    "# List_Q_code =df_wikiData[\"Q_code\"].tolist()\n",
    "# #Tâche EXTREMEMENT longue.A n'executer qu'une fois : \n",
    "# df_longlatGPH = Extract_longlat_WikiData_all(List_Q_code)\n",
    "# df_longlatGPH.to_csv(\"./GPH_coordonnees.csv\")\n",
    "# df_longlatGPH"
   ]
  },
  {
   "cell_type": "markdown",
   "metadata": {},
   "source": [
    "On a donc décidé de récupérer uniquement les coordonnées des lieux paraissant dans les revues de 1898 à 1908."
   ]
  },
  {
   "cell_type": "code",
   "execution_count": 21,
   "metadata": {},
   "outputs": [],
   "source": [
    "GPELOC_GPH =pd.merge(df_wikiData,df_GPELOC,how=\"inner\",on=\"NAME\")[[\"NAME\",\"Q_code\"]]\n",
    "# GPELOC_GPH\n",
    "\n",
    "List_Q_code =GPELOC_GPH[\"Q_code\"].tolist()\n",
    "\n",
    "# df_longlatGPELOC_GPH = Extract_longlat_WikiData(List_Q_code)"
   ]
  },
  {
   "cell_type": "code",
   "execution_count": 22,
   "metadata": {},
   "outputs": [
    {
     "name": "stdout",
     "output_type": "stream",
     "text": [
      "Avant correction. \n",
      "liste latitude :  23 \n",
      "liste longitude :  23 \n",
      "List_Q_code :  23\n"
     ]
    }
   ],
   "source": [
    "list_lat=[]\n",
    "list_long=[]\n",
    "\n",
    "for Q_code in List_Q_code:\n",
    "#     print(Q_code)\n",
    "    if type(Q_code) == float:\n",
    "        list_lat.append(None)\n",
    "        list_long.append(None)\n",
    "    else:\n",
    "        q_dict = get_entity_dict_from_api(Q_code)\n",
    "\n",
    "\n",
    "        if \"P625\"in q_dict[\"claims\"] : #Si l'entité a des coordonnées\n",
    "\n",
    "            #Latitude\n",
    "            q_latitude = q_dict[\"claims\"][\"P625\"][0][\"mainsnak\"]['datavalue']['value']['latitude']\n",
    "            list_lat.append(q_latitude)\n",
    "\n",
    "            #Longitude:\n",
    "            q_longitude= q_dict[\"claims\"][\"P625\"][0][\"mainsnak\"]['datavalue']['value']['longitude']\n",
    "            list_long.append(q_longitude)\n",
    "\n",
    "        else:\n",
    "            list_lat.append(None)\n",
    "            list_long.append(None) \n",
    "\n",
    "#Vérifier la taille des listes pour se prémunir d'un \n",
    "print(\"Avant correction. \\nliste latitude : \",len(list_lat),\"\\nliste longitude : \",len(list_long),\"\\nList_Q_code : \",len(List_Q_code))\n",
    "\n",
    "#s'Ily a une différence de taille entre list_long/list_lat et List_Q_code     \n",
    "# list_long=list_long.append(\"0\")\n",
    "# list_lat=list_lat.append(\"0\")\n",
    "\n",
    "#     print(\"Après correction. \\nliste latitude : \",len(list_lat),\"\\nliste longitude : \",len(list_long),\"\\nList_Q_code : \",len(List_Q_code))\n",
    "\n",
    "# #création d'un df qui rassemble toutes les infos voulues et que l'on pourra merge par Q_code :\n",
    "df_longlatGPELOC_GPH=pd.DataFrame({\"Q_code\":List_Q_code,\"latitude\":list_lat,\"longitude\":list_long})\n",
    "  \n",
    "\n"
   ]
  },
  {
   "cell_type": "code",
   "execution_count": 23,
   "metadata": {},
   "outputs": [],
   "source": [
    "df_longlatGPELOC_GPH.to_csv(\"./GPELOC_GPH_coordonnees.csv\")\n",
    "GPELOC_GPH=pd.merge(GPELOC_GPH,df_longlatGPELOC_GPH,how=\"left\",on=\"Q_code\")\n",
    "\n",
    "# GPELOC_GPH"
   ]
  },
  {
   "cell_type": "markdown",
   "metadata": {},
   "source": [
    "On merge cette liste avec celle de référence créée précédemment, `df_GPELOC`"
   ]
  },
  {
   "cell_type": "code",
   "execution_count": 24,
   "metadata": {},
   "outputs": [],
   "source": [
    "df_GPELOC=pd.merge(df_GPELOC,GPELOC_GPH,how=\"outer\",on=\"NAME\")\n",
    "# df_GPELOC"
   ]
  },
  {
   "cell_type": "markdown",
   "metadata": {},
   "source": [
    "### 2.2.2. GPH x IREL : avoir une idée de ce que l'on pouvait trouver dans les deux \n",
    "#### (et qu'il faut donc extraire de la liste de recherche)"
   ]
  },
  {
   "cell_type": "code",
   "execution_count": 25,
   "metadata": {},
   "outputs": [
    {
     "data": {
      "text/html": [
       "<div>\n",
       "<style scoped>\n",
       "    .dataframe tbody tr th:only-of-type {\n",
       "        vertical-align: middle;\n",
       "    }\n",
       "\n",
       "    .dataframe tbody tr th {\n",
       "        vertical-align: top;\n",
       "    }\n",
       "\n",
       "    .dataframe thead th {\n",
       "        text-align: right;\n",
       "    }\n",
       "</style>\n",
       "<table border=\"1\" class=\"dataframe\">\n",
       "  <thead>\n",
       "    <tr style=\"text-align: right;\">\n",
       "      <th></th>\n",
       "      <th>NAME</th>\n",
       "      <th>Q_code</th>\n",
       "      <th>latitude</th>\n",
       "      <th>longitude</th>\n",
       "    </tr>\n",
       "  </thead>\n",
       "  <tbody>\n",
       "    <tr>\n",
       "      <th>0</th>\n",
       "      <td>Cuba</td>\n",
       "      <td>Q241</td>\n",
       "      <td>22.000000</td>\n",
       "      <td>-79.500000</td>\n",
       "    </tr>\n",
       "    <tr>\n",
       "      <th>1</th>\n",
       "      <td>Guadeloupe</td>\n",
       "      <td>Q17012</td>\n",
       "      <td>16.250000</td>\n",
       "      <td>-61.583333</td>\n",
       "    </tr>\n",
       "    <tr>\n",
       "      <th>2</th>\n",
       "      <td>Martinique</td>\n",
       "      <td>Q17054</td>\n",
       "      <td>14.666667</td>\n",
       "      <td>-61.000000</td>\n",
       "    </tr>\n",
       "    <tr>\n",
       "      <th>3</th>\n",
       "      <td>France</td>\n",
       "      <td>Q142</td>\n",
       "      <td>47.000000</td>\n",
       "      <td>2.000000</td>\n",
       "    </tr>\n",
       "    <tr>\n",
       "      <th>4</th>\n",
       "      <td>Gibraltar</td>\n",
       "      <td>Q1410</td>\n",
       "      <td>36.137750</td>\n",
       "      <td>-5.345361</td>\n",
       "    </tr>\n",
       "    <tr>\n",
       "      <th>5</th>\n",
       "      <td>Niger</td>\n",
       "      <td>Q1032</td>\n",
       "      <td>17.000000</td>\n",
       "      <td>10.000000</td>\n",
       "    </tr>\n",
       "    <tr>\n",
       "      <th>6</th>\n",
       "      <td>Gabon</td>\n",
       "      <td>Q1000</td>\n",
       "      <td>-0.683331</td>\n",
       "      <td>11.500000</td>\n",
       "    </tr>\n",
       "    <tr>\n",
       "      <th>7</th>\n",
       "      <td>Philippines</td>\n",
       "      <td>Q928</td>\n",
       "      <td>12.000000</td>\n",
       "      <td>123.000000</td>\n",
       "    </tr>\n",
       "    <tr>\n",
       "      <th>8</th>\n",
       "      <td>Tagant</td>\n",
       "      <td>Q843903</td>\n",
       "      <td>18.700000</td>\n",
       "      <td>-10.200000</td>\n",
       "    </tr>\n",
       "    <tr>\n",
       "      <th>9</th>\n",
       "      <td>Yunnan</td>\n",
       "      <td>Q43194</td>\n",
       "      <td>24.500000</td>\n",
       "      <td>101.500000</td>\n",
       "    </tr>\n",
       "    <tr>\n",
       "      <th>10</th>\n",
       "      <td>Tonkin</td>\n",
       "      <td>Q1858</td>\n",
       "      <td>21.024500</td>\n",
       "      <td>105.841170</td>\n",
       "    </tr>\n",
       "    <tr>\n",
       "      <th>11</th>\n",
       "      <td>Zanzibar</td>\n",
       "      <td>Q1774</td>\n",
       "      <td>-6.133333</td>\n",
       "      <td>39.316667</td>\n",
       "    </tr>\n",
       "    <tr>\n",
       "      <th>12</th>\n",
       "      <td>Laos</td>\n",
       "      <td>Q819</td>\n",
       "      <td>18.200000</td>\n",
       "      <td>104.000000</td>\n",
       "    </tr>\n",
       "    <tr>\n",
       "      <th>13</th>\n",
       "      <td>Milan</td>\n",
       "      <td>Q490</td>\n",
       "      <td>45.466944</td>\n",
       "      <td>9.190000</td>\n",
       "    </tr>\n",
       "    <tr>\n",
       "      <th>14</th>\n",
       "      <td>Zinder</td>\n",
       "      <td>Q204365</td>\n",
       "      <td>13.800000</td>\n",
       "      <td>8.983333</td>\n",
       "    </tr>\n",
       "    <tr>\n",
       "      <th>15</th>\n",
       "      <td>Lagos</td>\n",
       "      <td>Q8673</td>\n",
       "      <td>6.450000</td>\n",
       "      <td>3.400000</td>\n",
       "    </tr>\n",
       "    <tr>\n",
       "      <th>16</th>\n",
       "      <td>Loango</td>\n",
       "      <td>Q1479630</td>\n",
       "      <td>-4.710600</td>\n",
       "      <td>11.837800</td>\n",
       "    </tr>\n",
       "    <tr>\n",
       "      <th>17</th>\n",
       "      <td>Mayotte</td>\n",
       "      <td>Q17063</td>\n",
       "      <td>-12.843056</td>\n",
       "      <td>45.138333</td>\n",
       "    </tr>\n",
       "    <tr>\n",
       "      <th>18</th>\n",
       "      <td>Anjouan</td>\n",
       "      <td>Q231324</td>\n",
       "      <td>-12.215000</td>\n",
       "      <td>44.425000</td>\n",
       "    </tr>\n",
       "    <tr>\n",
       "      <th>19</th>\n",
       "      <td>Bizerte</td>\n",
       "      <td>Q189546</td>\n",
       "      <td>37.274444</td>\n",
       "      <td>9.873889</td>\n",
       "    </tr>\n",
       "    <tr>\n",
       "      <th>20</th>\n",
       "      <td>Annam</td>\n",
       "      <td>Q10828323</td>\n",
       "      <td>NaN</td>\n",
       "      <td>NaN</td>\n",
       "    </tr>\n",
       "    <tr>\n",
       "      <th>21</th>\n",
       "      <td>Tahiti</td>\n",
       "      <td>Q42000</td>\n",
       "      <td>-17.666667</td>\n",
       "      <td>-149.466667</td>\n",
       "    </tr>\n",
       "    <tr>\n",
       "      <th>22</th>\n",
       "      <td>Samoa</td>\n",
       "      <td>Q683</td>\n",
       "      <td>-14.000000</td>\n",
       "      <td>-172.000000</td>\n",
       "    </tr>\n",
       "  </tbody>\n",
       "</table>\n",
       "</div>"
      ],
      "text/plain": [
       "           NAME     Q_code   latitude   longitude\n",
       "0          Cuba       Q241  22.000000  -79.500000\n",
       "1    Guadeloupe     Q17012  16.250000  -61.583333\n",
       "2    Martinique     Q17054  14.666667  -61.000000\n",
       "3        France       Q142  47.000000    2.000000\n",
       "4     Gibraltar      Q1410  36.137750   -5.345361\n",
       "5         Niger      Q1032  17.000000   10.000000\n",
       "6         Gabon      Q1000  -0.683331   11.500000\n",
       "7   Philippines       Q928  12.000000  123.000000\n",
       "8        Tagant    Q843903  18.700000  -10.200000\n",
       "9        Yunnan     Q43194  24.500000  101.500000\n",
       "10       Tonkin      Q1858  21.024500  105.841170\n",
       "11     Zanzibar      Q1774  -6.133333   39.316667\n",
       "12         Laos       Q819  18.200000  104.000000\n",
       "13        Milan       Q490  45.466944    9.190000\n",
       "14       Zinder    Q204365  13.800000    8.983333\n",
       "15        Lagos      Q8673   6.450000    3.400000\n",
       "16       Loango   Q1479630  -4.710600   11.837800\n",
       "17      Mayotte     Q17063 -12.843056   45.138333\n",
       "18      Anjouan    Q231324 -12.215000   44.425000\n",
       "19      Bizerte    Q189546  37.274444    9.873889\n",
       "20        Annam  Q10828323        NaN         NaN\n",
       "21       Tahiti     Q42000 -17.666667 -149.466667\n",
       "22        Samoa       Q683 -14.000000 -172.000000"
      ]
     },
     "execution_count": 25,
     "metadata": {},
     "output_type": "execute_result"
    }
   ],
   "source": [
    "# On confirme que GPELOC_IRELGPH n'apporte rien  de nouveau \n",
    "pd.merge(GPELOC_IRELGPH,GPELOC_GPH,how=\"outer\",on=\"NAME\")"
   ]
  },
  {
   "cell_type": "markdown",
   "metadata": {},
   "source": [
    "## 2.3 IREL"
   ]
  },
  {
   "cell_type": "code",
   "execution_count": 26,
   "metadata": {
    "scrolled": false
   },
   "outputs": [
    {
     "data": {
      "text/html": [
       "<div>\n",
       "<style scoped>\n",
       "    .dataframe tbody tr th:only-of-type {\n",
       "        vertical-align: middle;\n",
       "    }\n",
       "\n",
       "    .dataframe tbody tr th {\n",
       "        vertical-align: top;\n",
       "    }\n",
       "\n",
       "    .dataframe thead th {\n",
       "        text-align: right;\n",
       "    }\n",
       "</style>\n",
       "<table border=\"1\" class=\"dataframe\">\n",
       "  <thead>\n",
       "    <tr style=\"text-align: right;\">\n",
       "      <th></th>\n",
       "      <th>Administration</th>\n",
       "      <th>NAME</th>\n",
       "      <th>Type</th>\n",
       "      <th>titre</th>\n",
       "    </tr>\n",
       "  </thead>\n",
       "  <tbody>\n",
       "    <tr>\n",
       "      <th>0</th>\n",
       "      <td>None</td>\n",
       "      <td>None</td>\n",
       "      <td>None</td>\n",
       "      <td>var geographie = [Aachen (Allemagne)</td>\n",
       "    </tr>\n",
       "    <tr>\n",
       "      <th>1</th>\n",
       "      <td>République du Congo</td>\n",
       "      <td>Abala</td>\n",
       "      <td>Subdivision</td>\n",
       "      <td>AbalaSubdivision (République du Congo)</td>\n",
       "    </tr>\n",
       "    <tr>\n",
       "      <th>2</th>\n",
       "      <td>Bénin</td>\n",
       "      <td>Abananquem</td>\n",
       "      <td>None</td>\n",
       "      <td>Abananquem (Bénin)</td>\n",
       "    </tr>\n",
       "    <tr>\n",
       "      <th>3</th>\n",
       "      <td>Algérie</td>\n",
       "      <td>Abbaziz</td>\n",
       "      <td>None</td>\n",
       "      <td>Abbaziz (Algérie)</td>\n",
       "    </tr>\n",
       "    <tr>\n",
       "      <th>4</th>\n",
       "      <td>Somme ; France</td>\n",
       "      <td>Abbeville</td>\n",
       "      <td>None</td>\n",
       "      <td>Abbeville (Somme ; France)</td>\n",
       "    </tr>\n",
       "    <tr>\n",
       "      <th>...</th>\n",
       "      <td>...</td>\n",
       "      <td>...</td>\n",
       "      <td>...</td>\n",
       "      <td>...</td>\n",
       "    </tr>\n",
       "    <tr>\n",
       "      <th>14566</th>\n",
       "      <td>Allemagne</td>\n",
       "      <td>Zusenhofen</td>\n",
       "      <td>None</td>\n",
       "      <td>Zusenhofen (Allemagne)</td>\n",
       "    </tr>\n",
       "    <tr>\n",
       "      <th>14567</th>\n",
       "      <td>Nord ; France</td>\n",
       "      <td>Zuytpeene</td>\n",
       "      <td>None</td>\n",
       "      <td>Zuytpeene (Nord ; France)</td>\n",
       "    </tr>\n",
       "    <tr>\n",
       "      <th>14568</th>\n",
       "      <td>Algérie</td>\n",
       "      <td>Z\\'Mala</td>\n",
       "      <td>None</td>\n",
       "      <td>Z\\Mala (Algérie)</td>\n",
       "    </tr>\n",
       "    <tr>\n",
       "      <th>14569</th>\n",
       "      <td>Algérie</td>\n",
       "      <td>Z’Malet El Emir Abdelkader</td>\n",
       "      <td>None</td>\n",
       "      <td>Z’Malet El Emir Abdelkader (Algérie)</td>\n",
       "    </tr>\n",
       "    <tr>\n",
       "      <th>14570</th>\n",
       "      <td>None</td>\n",
       "      <td>None</td>\n",
       "      <td>None</td>\n",
       "      <td>];</td>\n",
       "    </tr>\n",
       "  </tbody>\n",
       "</table>\n",
       "<p>14571 rows × 4 columns</p>\n",
       "</div>"
      ],
      "text/plain": [
       "            Administration                         NAME          Type  \\\n",
       "0                     None                         None          None   \n",
       "1      République du Congo                        Abala  Subdivision    \n",
       "2                    Bénin                  Abananquem           None   \n",
       "3                  Algérie                     Abbaziz           None   \n",
       "4           Somme ; France                   Abbeville           None   \n",
       "...                    ...                          ...           ...   \n",
       "14566            Allemagne                  Zusenhofen           None   \n",
       "14567        Nord ; France                   Zuytpeene           None   \n",
       "14568              Algérie                     Z\\'Mala           None   \n",
       "14569              Algérie  Z’Malet El Emir Abdelkader           None   \n",
       "14570                 None                         None          None   \n",
       "\n",
       "                                        titre  \n",
       "0        var geographie = [Aachen (Allemagne)  \n",
       "1      AbalaSubdivision (République du Congo)  \n",
       "2                          Abananquem (Bénin)  \n",
       "3                           Abbaziz (Algérie)  \n",
       "4                  Abbeville (Somme ; France)  \n",
       "...                                       ...  \n",
       "14566                  Zusenhofen (Allemagne)  \n",
       "14567               Zuytpeene (Nord ; France)  \n",
       "14568                        Z\\Mala (Algérie)  \n",
       "14569    Z’Malet El Emir Abdelkader (Algérie)  \n",
       "14570                                      ];  \n",
       "\n",
       "[14571 rows x 4 columns]"
      ]
     },
     "execution_count": 26,
     "metadata": {},
     "output_type": "execute_result"
    }
   ],
   "source": [
    "df_IREL"
   ]
  },
  {
   "cell_type": "markdown",
   "metadata": {},
   "source": [
    "### 2.3.1.reconstituer les URL de IREL:"
   ]
  },
  {
   "cell_type": "code",
   "execution_count": 27,
   "metadata": {
    "scrolled": true
   },
   "outputs": [],
   "source": [
    "#encoder les titres\n",
    "list_titre_encoded =[]\n",
    "for titre in df_IREL[\"titre\"]:\n",
    "    titre_encoded=urlencode(titre)\n",
    "    list_titre_encoded.append(titre_encoded)\n",
    "\n",
    "df_IREL[\"titre_encoded\"] = list_titre_encoded\n",
    "\n",
    "#reconstituer l'URL\n",
    "list_url=[]\n",
    "for encoded in df_IREL[\"titre_encoded\"]:\n",
    "    IREL_url= \"http://anom.archivesnationales.culture.gouv.fr/geo.php?ir=&lieu=\"+encoded\n",
    "    list_url.append(IREL_url)\n",
    "    \n",
    "df_IREL[\"IREL_url\"] = list_url\n",
    "\n",
    "#Chercher les coordonnées de chaque entrée:\n",
    "#Beautiful Soup\n",
    "pattern_coord_lat = r\"\\\"value\\\"\\:\\{\\\"latitude\\\"\\:(-?[\\d]{1,2}\\.[\\d]*)\\,\"\n",
    "pattern_coord_long = r\"longitude\\\"\\:(-?[\\d]{1,3}\\.[\\d]*)\\,\"\n",
    "\n"
   ]
  },
  {
   "cell_type": "markdown",
   "metadata": {},
   "source": [
    "\n",
    "\n",
    "Par économie de mémoire et de temps, à l'issue de la récupération des URL nous les avons exporté dans un csv trouvable ici : \"./output_finaux/ListeCoordonnees.csv\""
   ]
  },
  {
   "cell_type": "code",
   "execution_count": 28,
   "metadata": {
    "scrolled": true
   },
   "outputs": [],
   "source": [
    "### LISTE des coordonnées récupérée et exportée dans \"./output_finaux/ListeCoordonnees.csv\"\n",
    "\n",
    "# liste_coords=[]\n",
    "# for url in df_IREL[\"IREL_url\"]: \n",
    "#     coords = desambiguisation.Extract_longlat_IREL(url)\n",
    "#     liste_coords.append(coords)\n",
    "# df_IREL[\"Coordonnees\"]=liste_coords\n",
    "# df_IREL[\"Coordonnees\"].to_csv(\"./output_finaux/ListeCoordonnees.csv\",sep='\\t',index=False)\n"
   ]
  },
  {
   "cell_type": "code",
   "execution_count": 29,
   "metadata": {},
   "outputs": [
    {
     "data": {
      "text/html": [
       "<div>\n",
       "<style scoped>\n",
       "    .dataframe tbody tr th:only-of-type {\n",
       "        vertical-align: middle;\n",
       "    }\n",
       "\n",
       "    .dataframe tbody tr th {\n",
       "        vertical-align: top;\n",
       "    }\n",
       "\n",
       "    .dataframe thead th {\n",
       "        text-align: right;\n",
       "    }\n",
       "</style>\n",
       "<table border=\"1\" class=\"dataframe\">\n",
       "  <thead>\n",
       "    <tr style=\"text-align: right;\">\n",
       "      <th></th>\n",
       "      <th>Administration</th>\n",
       "      <th>NAME</th>\n",
       "      <th>Type</th>\n",
       "      <th>titre</th>\n",
       "      <th>titre_encoded</th>\n",
       "      <th>IREL_url</th>\n",
       "      <th>Coordonnees</th>\n",
       "      <th>latitude</th>\n",
       "      <th>longitude</th>\n",
       "    </tr>\n",
       "  </thead>\n",
       "  <tbody>\n",
       "    <tr>\n",
       "      <th>0</th>\n",
       "      <td>None</td>\n",
       "      <td>None</td>\n",
       "      <td>None</td>\n",
       "      <td>var geographie = [Aachen (Allemagne)</td>\n",
       "      <td>var%20geographie%20%3D%20%5BAachen%20%28Allema...</td>\n",
       "      <td>http://anom.archivesnationales.culture.gouv.fr...</td>\n",
       "      <td>NaN</td>\n",
       "      <td>NaN</td>\n",
       "      <td>NaN</td>\n",
       "    </tr>\n",
       "    <tr>\n",
       "      <th>1</th>\n",
       "      <td>République du Congo</td>\n",
       "      <td>Abala</td>\n",
       "      <td>Subdivision</td>\n",
       "      <td>AbalaSubdivision (République du Congo)</td>\n",
       "      <td>AbalaSubdivision%20%28R%C3%A9publique%20du%20C...</td>\n",
       "      <td>http://anom.archivesnationales.culture.gouv.fr...</td>\n",
       "      <td>NaN</td>\n",
       "      <td>NaN</td>\n",
       "      <td>NaN</td>\n",
       "    </tr>\n",
       "    <tr>\n",
       "      <th>2</th>\n",
       "      <td>Bénin</td>\n",
       "      <td>Abananquem</td>\n",
       "      <td>None</td>\n",
       "      <td>Abananquem (Bénin)</td>\n",
       "      <td>Abananquem%20%28B%C3%A9nin%29</td>\n",
       "      <td>http://anom.archivesnationales.culture.gouv.fr...</td>\n",
       "      <td>6.2850 1.8118</td>\n",
       "      <td>6.2850</td>\n",
       "      <td>1.8118</td>\n",
       "    </tr>\n",
       "    <tr>\n",
       "      <th>3</th>\n",
       "      <td>Algérie</td>\n",
       "      <td>Abbaziz</td>\n",
       "      <td>None</td>\n",
       "      <td>Abbaziz (Algérie)</td>\n",
       "      <td>Abbaziz%20%28Alg%C3%A9rie%29</td>\n",
       "      <td>http://anom.archivesnationales.culture.gouv.fr...</td>\n",
       "      <td>34.6167 2.8000</td>\n",
       "      <td>34.6167</td>\n",
       "      <td>2.8000</td>\n",
       "    </tr>\n",
       "    <tr>\n",
       "      <th>4</th>\n",
       "      <td>Somme ; France</td>\n",
       "      <td>Abbeville</td>\n",
       "      <td>None</td>\n",
       "      <td>Abbeville (Somme ; France)</td>\n",
       "      <td>Abbeville%20%28Somme%20%3B%20France%29</td>\n",
       "      <td>http://anom.archivesnationales.culture.gouv.fr...</td>\n",
       "      <td>50.1 1.8333</td>\n",
       "      <td>50.1</td>\n",
       "      <td>1.8333</td>\n",
       "    </tr>\n",
       "    <tr>\n",
       "      <th>...</th>\n",
       "      <td>...</td>\n",
       "      <td>...</td>\n",
       "      <td>...</td>\n",
       "      <td>...</td>\n",
       "      <td>...</td>\n",
       "      <td>...</td>\n",
       "      <td>...</td>\n",
       "      <td>...</td>\n",
       "      <td>...</td>\n",
       "    </tr>\n",
       "    <tr>\n",
       "      <th>14566</th>\n",
       "      <td>Allemagne</td>\n",
       "      <td>Zusenhofen</td>\n",
       "      <td>None</td>\n",
       "      <td>Zusenhofen (Allemagne)</td>\n",
       "      <td>Zusenhofen%20%28Allemagne%29</td>\n",
       "      <td>http://anom.archivesnationales.culture.gouv.fr...</td>\n",
       "      <td>48.5500 8.0167</td>\n",
       "      <td>48.5500</td>\n",
       "      <td>8.0167</td>\n",
       "    </tr>\n",
       "    <tr>\n",
       "      <th>14567</th>\n",
       "      <td>Nord ; France</td>\n",
       "      <td>Zuytpeene</td>\n",
       "      <td>None</td>\n",
       "      <td>Zuytpeene (Nord ; France)</td>\n",
       "      <td>Zuytpeene%20%28Nord%20%3B%20France%29</td>\n",
       "      <td>http://anom.archivesnationales.culture.gouv.fr...</td>\n",
       "      <td>50.7947 2.4275</td>\n",
       "      <td>50.7947</td>\n",
       "      <td>2.4275</td>\n",
       "    </tr>\n",
       "    <tr>\n",
       "      <th>14568</th>\n",
       "      <td>Algérie</td>\n",
       "      <td>Z\\'Mala</td>\n",
       "      <td>None</td>\n",
       "      <td>Z\\Mala (Algérie)</td>\n",
       "      <td>Z%5CMala%20%28Alg%C3%A9rie%29</td>\n",
       "      <td>http://anom.archivesnationales.culture.gouv.fr...</td>\n",
       "      <td>NaN</td>\n",
       "      <td>NaN</td>\n",
       "      <td>NaN</td>\n",
       "    </tr>\n",
       "    <tr>\n",
       "      <th>14569</th>\n",
       "      <td>Algérie</td>\n",
       "      <td>Z’Malet El Emir Abdelkader</td>\n",
       "      <td>None</td>\n",
       "      <td>Z’Malet El Emir Abdelkader (Algérie)</td>\n",
       "      <td>Z%E2%80%99Malet%20El%20Emir%20Abdelkader%20%28...</td>\n",
       "      <td>http://anom.archivesnationales.culture.gouv.fr...</td>\n",
       "      <td>34.9000 2.3500</td>\n",
       "      <td>34.9000</td>\n",
       "      <td>2.3500</td>\n",
       "    </tr>\n",
       "    <tr>\n",
       "      <th>14570</th>\n",
       "      <td>None</td>\n",
       "      <td>None</td>\n",
       "      <td>None</td>\n",
       "      <td>];</td>\n",
       "      <td>%5D%3B</td>\n",
       "      <td>http://anom.archivesnationales.culture.gouv.fr...</td>\n",
       "      <td>NaN</td>\n",
       "      <td>NaN</td>\n",
       "      <td>NaN</td>\n",
       "    </tr>\n",
       "  </tbody>\n",
       "</table>\n",
       "<p>14571 rows × 9 columns</p>\n",
       "</div>"
      ],
      "text/plain": [
       "            Administration                         NAME          Type  \\\n",
       "0                     None                         None          None   \n",
       "1      République du Congo                        Abala  Subdivision    \n",
       "2                    Bénin                  Abananquem           None   \n",
       "3                  Algérie                     Abbaziz           None   \n",
       "4           Somme ; France                   Abbeville           None   \n",
       "...                    ...                          ...           ...   \n",
       "14566            Allemagne                  Zusenhofen           None   \n",
       "14567        Nord ; France                   Zuytpeene           None   \n",
       "14568              Algérie                     Z\\'Mala           None   \n",
       "14569              Algérie  Z’Malet El Emir Abdelkader           None   \n",
       "14570                 None                         None          None   \n",
       "\n",
       "                                        titre  \\\n",
       "0        var geographie = [Aachen (Allemagne)   \n",
       "1      AbalaSubdivision (République du Congo)   \n",
       "2                          Abananquem (Bénin)   \n",
       "3                           Abbaziz (Algérie)   \n",
       "4                  Abbeville (Somme ; France)   \n",
       "...                                       ...   \n",
       "14566                  Zusenhofen (Allemagne)   \n",
       "14567               Zuytpeene (Nord ; France)   \n",
       "14568                        Z\\Mala (Algérie)   \n",
       "14569    Z’Malet El Emir Abdelkader (Algérie)   \n",
       "14570                                      ];   \n",
       "\n",
       "                                           titre_encoded  \\\n",
       "0      var%20geographie%20%3D%20%5BAachen%20%28Allema...   \n",
       "1      AbalaSubdivision%20%28R%C3%A9publique%20du%20C...   \n",
       "2                          Abananquem%20%28B%C3%A9nin%29   \n",
       "3                           Abbaziz%20%28Alg%C3%A9rie%29   \n",
       "4                 Abbeville%20%28Somme%20%3B%20France%29   \n",
       "...                                                  ...   \n",
       "14566                       Zusenhofen%20%28Allemagne%29   \n",
       "14567              Zuytpeene%20%28Nord%20%3B%20France%29   \n",
       "14568                      Z%5CMala%20%28Alg%C3%A9rie%29   \n",
       "14569  Z%E2%80%99Malet%20El%20Emir%20Abdelkader%20%28...   \n",
       "14570                                             %5D%3B   \n",
       "\n",
       "                                                IREL_url     Coordonnees  \\\n",
       "0      http://anom.archivesnationales.culture.gouv.fr...             NaN   \n",
       "1      http://anom.archivesnationales.culture.gouv.fr...             NaN   \n",
       "2      http://anom.archivesnationales.culture.gouv.fr...   6.2850 1.8118   \n",
       "3      http://anom.archivesnationales.culture.gouv.fr...  34.6167 2.8000   \n",
       "4      http://anom.archivesnationales.culture.gouv.fr...     50.1 1.8333   \n",
       "...                                                  ...             ...   \n",
       "14566  http://anom.archivesnationales.culture.gouv.fr...  48.5500 8.0167   \n",
       "14567  http://anom.archivesnationales.culture.gouv.fr...  50.7947 2.4275   \n",
       "14568  http://anom.archivesnationales.culture.gouv.fr...             NaN   \n",
       "14569  http://anom.archivesnationales.culture.gouv.fr...  34.9000 2.3500   \n",
       "14570  http://anom.archivesnationales.culture.gouv.fr...             NaN   \n",
       "\n",
       "      latitude longitude  \n",
       "0          NaN       NaN  \n",
       "1          NaN       NaN  \n",
       "2       6.2850    1.8118  \n",
       "3      34.6167    2.8000  \n",
       "4         50.1    1.8333  \n",
       "...        ...       ...  \n",
       "14566  48.5500    8.0167  \n",
       "14567  50.7947    2.4275  \n",
       "14568      NaN       NaN  \n",
       "14569  34.9000    2.3500  \n",
       "14570      NaN       NaN  \n",
       "\n",
       "[14571 rows x 9 columns]"
      ]
     },
     "execution_count": 29,
     "metadata": {},
     "output_type": "execute_result"
    }
   ],
   "source": [
    "df_IREL[\"Coordonnees\"]=pd.read_csv(\"./output_finaux/ListeCoordonnees.csv\",sep='\\t')\n",
    "\n",
    "#En faisant mon code précédent, j'ai fait une erreur en prenant dans la même colonne\n",
    "#longitude et latitude. \n",
    "df_IREL=pd.concat([df_IREL,df_IREL[\"Coordonnees\"].str.split(\" \",expand=True)],axis=1)\n",
    "df_IREL.rename(columns={0:\"latitude\",1:\"longitude\"})\n"
   ]
  },
  {
   "cell_type": "code",
   "execution_count": 30,
   "metadata": {},
   "outputs": [
    {
     "name": "stdout",
     "output_type": "stream",
     "text": [
      "nombre de coordonnées manquantes :  5805\n"
     ]
    },
    {
     "data": {
      "text/plain": [
       "8390                              MargaritaÎle (Venezuela)\n",
       "5824                            HabraCours d\\eau (Algérie)\n",
       "10250                               Ouled Sekhar (Algérie)\n",
       "482      Alima-LéfiniCirconscription (République du Congo)\n",
       "5385                           GentillySeigneurie (Canada)\n",
       "10242                               Ouled Naceur (Algérie)\n",
       "7378                     La LussaudièreSeigneurie (Canada)\n",
       "3148         ChandeleurÎles de la (Louisiane ; États-Unis)\n",
       "3402     ChiloangaCours d\\eau (République démocratique ...\n",
       "13396                       ThekapointCours d\\eau (Canada)\n",
       "4019                               Dar El Fouini (Algérie)\n",
       "5198              FranconieRégion géographique (Allemagne)\n",
       "5640            Grand BélédougouRégion géographique (Mali)\n",
       "13258                               TchiboboPointe (Gabon)\n",
       "6370                               IviceÎle (BaléaresÎles)\n",
       "12924                     SoussRégion géographique (Maroc)\n",
       "1287     Bangui/Fort-CrampelVoie ferrée (République cen...\n",
       "14516                          ZenatiCours d\\eau (Algérie)\n",
       "9811                   N\\GoyeRégion géographique (Sénégal)\n",
       "13160                           TannahCours d\\eau (Guinée)\n",
       "3188                                   CharlesCap (Canada)\n",
       "5087     Fort-Archambault/YaoundéVoie ferrée (Tchad/Cam...\n",
       "12247                Sambouangue (PhilippinesArchipel des)\n",
       "1778                               Beni Ouassine (Algérie)\n",
       "11768                 Saint-Georges-de-la-MineFort (Ghana)\n",
       "6204                               IbizaÎle (BaléaresÎles)\n",
       "12585                        SeybouseDépartement (Algérie)\n",
       "4260                        DjelfaArrondissement (Algérie)\n",
       "8286                MandéRégion géographique (Guinée/Mali)\n",
       "7665          Le Chaudron (Saint-Denis ; RéunionÎle de la)\n",
       "Name: titre, dtype: object"
      ]
     },
     "execution_count": 30,
     "metadata": {},
     "output_type": "execute_result"
    }
   ],
   "source": [
    "print(\"nombre de coordonnées manquantes : \",df_IREL[\"Coordonnees\"].isna().sum())\n",
    "\n",
    "df_IREL.loc[df_IREL[\"Coordonnees\"].isna()][\"titre\"].sample(n=30)\n",
    "\n",
    "#5805 noms de lieux sans coordonnées géographiques. \n",
    "#Il faudrait pour cela revoir les url constitués pour voir s'ils fonctionnent bien\n",
    "##Le problème tient notamment à des problèmes de ponctuation, d'espace et d'appostrophe\n",
    "##Question à régler plus tard pour avoir à l'avenir une bdd pertinente et réutilisable par toutes et tous "
   ]
  },
  {
   "cell_type": "code",
   "execution_count": 31,
   "metadata": {},
   "outputs": [],
   "source": [
    "# df_IREL[\"Coordonnees\"]"
   ]
  },
  {
   "cell_type": "markdown",
   "metadata": {},
   "source": [
    "## Nettoyage des colonnes Aministration et Lieu-dit du df IREL \n",
    "\n",
    "Les deux colonnes en questions nous permettront de déterminer si oui ou non le lieu est géolocalisé dans la base de donnée IREL"
   ]
  },
  {
   "cell_type": "code",
   "execution_count": 32,
   "metadata": {
    "scrolled": true
   },
   "outputs": [
    {
     "name": "stdout",
     "output_type": "stream",
     "text": [
      "\n",
      "nouvelle colonne créée :  Administration_bis . au rang :  9\n",
      "\n",
      "nouvelle colonne créée :  Lieu-dit_bis . au rang :  10\n"
     ]
    }
   ],
   "source": [
    "df_IREL=IREL_Nettoyage_AdminLieuDit(df_IREL)"
   ]
  },
  {
   "cell_type": "code",
   "execution_count": 33,
   "metadata": {},
   "outputs": [
    {
     "data": {
      "text/html": [
       "<div>\n",
       "<style scoped>\n",
       "    .dataframe tbody tr th:only-of-type {\n",
       "        vertical-align: middle;\n",
       "    }\n",
       "\n",
       "    .dataframe tbody tr th {\n",
       "        vertical-align: top;\n",
       "    }\n",
       "\n",
       "    .dataframe thead th {\n",
       "        text-align: right;\n",
       "    }\n",
       "</style>\n",
       "<table border=\"1\" class=\"dataframe\">\n",
       "  <thead>\n",
       "    <tr style=\"text-align: right;\">\n",
       "      <th></th>\n",
       "      <th>Administration</th>\n",
       "      <th>NAME</th>\n",
       "      <th>Type</th>\n",
       "      <th>titre</th>\n",
       "      <th>titre_encoded</th>\n",
       "      <th>IREL_url</th>\n",
       "      <th>Coordonnees</th>\n",
       "      <th>0</th>\n",
       "      <th>1</th>\n",
       "      <th>Administration_bis</th>\n",
       "      <th>Lieu-dit_bis</th>\n",
       "    </tr>\n",
       "  </thead>\n",
       "  <tbody>\n",
       "    <tr>\n",
       "      <th>0</th>\n",
       "      <td>None</td>\n",
       "      <td>None</td>\n",
       "      <td>None</td>\n",
       "      <td>var geographie = [Aachen (Allemagne)</td>\n",
       "      <td>var%20geographie%20%3D%20%5BAachen%20%28Allema...</td>\n",
       "      <td>http://anom.archivesnationales.culture.gouv.fr...</td>\n",
       "      <td>NaN</td>\n",
       "      <td>NaN</td>\n",
       "      <td>NaN</td>\n",
       "      <td></td>\n",
       "      <td></td>\n",
       "    </tr>\n",
       "    <tr>\n",
       "      <th>1</th>\n",
       "      <td>République du Congo</td>\n",
       "      <td>Abala</td>\n",
       "      <td>Subdivision</td>\n",
       "      <td>AbalaSubdivision (République du Congo)</td>\n",
       "      <td>AbalaSubdivision%20%28R%C3%A9publique%20du%20C...</td>\n",
       "      <td>http://anom.archivesnationales.culture.gouv.fr...</td>\n",
       "      <td>NaN</td>\n",
       "      <td>NaN</td>\n",
       "      <td>NaN</td>\n",
       "      <td></td>\n",
       "      <td></td>\n",
       "    </tr>\n",
       "    <tr>\n",
       "      <th>2</th>\n",
       "      <td>Bénin</td>\n",
       "      <td>Abananquem</td>\n",
       "      <td>None</td>\n",
       "      <td>Abananquem (Bénin)</td>\n",
       "      <td>Abananquem%20%28B%C3%A9nin%29</td>\n",
       "      <td>http://anom.archivesnationales.culture.gouv.fr...</td>\n",
       "      <td>6.2850 1.8118</td>\n",
       "      <td>6.2850</td>\n",
       "      <td>1.8118</td>\n",
       "      <td></td>\n",
       "      <td></td>\n",
       "    </tr>\n",
       "    <tr>\n",
       "      <th>3</th>\n",
       "      <td>Algérie</td>\n",
       "      <td>Abbaziz</td>\n",
       "      <td>None</td>\n",
       "      <td>Abbaziz (Algérie)</td>\n",
       "      <td>Abbaziz%20%28Alg%C3%A9rie%29</td>\n",
       "      <td>http://anom.archivesnationales.culture.gouv.fr...</td>\n",
       "      <td>34.6167 2.8000</td>\n",
       "      <td>34.6167</td>\n",
       "      <td>2.8000</td>\n",
       "      <td></td>\n",
       "      <td></td>\n",
       "    </tr>\n",
       "    <tr>\n",
       "      <th>4</th>\n",
       "      <td>Somme</td>\n",
       "      <td>Abbeville</td>\n",
       "      <td>None</td>\n",
       "      <td>Abbeville (Somme ; France)</td>\n",
       "      <td>Abbeville%20%28Somme%20%3B%20France%29</td>\n",
       "      <td>http://anom.archivesnationales.culture.gouv.fr...</td>\n",
       "      <td>50.1 1.8333</td>\n",
       "      <td>50.1</td>\n",
       "      <td>1.8333</td>\n",
       "      <td>France</td>\n",
       "      <td></td>\n",
       "    </tr>\n",
       "    <tr>\n",
       "      <th>...</th>\n",
       "      <td>...</td>\n",
       "      <td>...</td>\n",
       "      <td>...</td>\n",
       "      <td>...</td>\n",
       "      <td>...</td>\n",
       "      <td>...</td>\n",
       "      <td>...</td>\n",
       "      <td>...</td>\n",
       "      <td>...</td>\n",
       "      <td>...</td>\n",
       "      <td>...</td>\n",
       "    </tr>\n",
       "    <tr>\n",
       "      <th>14566</th>\n",
       "      <td>Allemagne</td>\n",
       "      <td>Zusenhofen</td>\n",
       "      <td>None</td>\n",
       "      <td>Zusenhofen (Allemagne)</td>\n",
       "      <td>Zusenhofen%20%28Allemagne%29</td>\n",
       "      <td>http://anom.archivesnationales.culture.gouv.fr...</td>\n",
       "      <td>48.5500 8.0167</td>\n",
       "      <td>48.5500</td>\n",
       "      <td>8.0167</td>\n",
       "      <td></td>\n",
       "      <td></td>\n",
       "    </tr>\n",
       "    <tr>\n",
       "      <th>14567</th>\n",
       "      <td>Nord</td>\n",
       "      <td>Zuytpeene</td>\n",
       "      <td>None</td>\n",
       "      <td>Zuytpeene (Nord ; France)</td>\n",
       "      <td>Zuytpeene%20%28Nord%20%3B%20France%29</td>\n",
       "      <td>http://anom.archivesnationales.culture.gouv.fr...</td>\n",
       "      <td>50.7947 2.4275</td>\n",
       "      <td>50.7947</td>\n",
       "      <td>2.4275</td>\n",
       "      <td>France</td>\n",
       "      <td></td>\n",
       "    </tr>\n",
       "    <tr>\n",
       "      <th>14568</th>\n",
       "      <td>Algérie</td>\n",
       "      <td>Z\\'Mala</td>\n",
       "      <td>None</td>\n",
       "      <td>Z\\Mala (Algérie)</td>\n",
       "      <td>Z%5CMala%20%28Alg%C3%A9rie%29</td>\n",
       "      <td>http://anom.archivesnationales.culture.gouv.fr...</td>\n",
       "      <td>NaN</td>\n",
       "      <td>NaN</td>\n",
       "      <td>NaN</td>\n",
       "      <td></td>\n",
       "      <td></td>\n",
       "    </tr>\n",
       "    <tr>\n",
       "      <th>14569</th>\n",
       "      <td>Algérie</td>\n",
       "      <td>Z’Malet El Emir Abdelkader</td>\n",
       "      <td>None</td>\n",
       "      <td>Z’Malet El Emir Abdelkader (Algérie)</td>\n",
       "      <td>Z%E2%80%99Malet%20El%20Emir%20Abdelkader%20%28...</td>\n",
       "      <td>http://anom.archivesnationales.culture.gouv.fr...</td>\n",
       "      <td>34.9000 2.3500</td>\n",
       "      <td>34.9000</td>\n",
       "      <td>2.3500</td>\n",
       "      <td></td>\n",
       "      <td></td>\n",
       "    </tr>\n",
       "    <tr>\n",
       "      <th>14570</th>\n",
       "      <td>None</td>\n",
       "      <td>None</td>\n",
       "      <td>None</td>\n",
       "      <td>];</td>\n",
       "      <td>%5D%3B</td>\n",
       "      <td>http://anom.archivesnationales.culture.gouv.fr...</td>\n",
       "      <td>NaN</td>\n",
       "      <td>NaN</td>\n",
       "      <td>NaN</td>\n",
       "      <td></td>\n",
       "      <td></td>\n",
       "    </tr>\n",
       "  </tbody>\n",
       "</table>\n",
       "<p>14571 rows × 11 columns</p>\n",
       "</div>"
      ],
      "text/plain": [
       "            Administration                         NAME          Type  \\\n",
       "0                     None                         None          None   \n",
       "1      République du Congo                        Abala  Subdivision    \n",
       "2                    Bénin                  Abananquem           None   \n",
       "3                  Algérie                     Abbaziz           None   \n",
       "4                   Somme                    Abbeville           None   \n",
       "...                    ...                          ...           ...   \n",
       "14566            Allemagne                  Zusenhofen           None   \n",
       "14567                Nord                    Zuytpeene           None   \n",
       "14568              Algérie                     Z\\'Mala           None   \n",
       "14569              Algérie  Z’Malet El Emir Abdelkader           None   \n",
       "14570                 None                         None          None   \n",
       "\n",
       "                                        titre  \\\n",
       "0        var geographie = [Aachen (Allemagne)   \n",
       "1      AbalaSubdivision (République du Congo)   \n",
       "2                          Abananquem (Bénin)   \n",
       "3                           Abbaziz (Algérie)   \n",
       "4                  Abbeville (Somme ; France)   \n",
       "...                                       ...   \n",
       "14566                  Zusenhofen (Allemagne)   \n",
       "14567               Zuytpeene (Nord ; France)   \n",
       "14568                        Z\\Mala (Algérie)   \n",
       "14569    Z’Malet El Emir Abdelkader (Algérie)   \n",
       "14570                                      ];   \n",
       "\n",
       "                                           titre_encoded  \\\n",
       "0      var%20geographie%20%3D%20%5BAachen%20%28Allema...   \n",
       "1      AbalaSubdivision%20%28R%C3%A9publique%20du%20C...   \n",
       "2                          Abananquem%20%28B%C3%A9nin%29   \n",
       "3                           Abbaziz%20%28Alg%C3%A9rie%29   \n",
       "4                 Abbeville%20%28Somme%20%3B%20France%29   \n",
       "...                                                  ...   \n",
       "14566                       Zusenhofen%20%28Allemagne%29   \n",
       "14567              Zuytpeene%20%28Nord%20%3B%20France%29   \n",
       "14568                      Z%5CMala%20%28Alg%C3%A9rie%29   \n",
       "14569  Z%E2%80%99Malet%20El%20Emir%20Abdelkader%20%28...   \n",
       "14570                                             %5D%3B   \n",
       "\n",
       "                                                IREL_url     Coordonnees  \\\n",
       "0      http://anom.archivesnationales.culture.gouv.fr...             NaN   \n",
       "1      http://anom.archivesnationales.culture.gouv.fr...             NaN   \n",
       "2      http://anom.archivesnationales.culture.gouv.fr...   6.2850 1.8118   \n",
       "3      http://anom.archivesnationales.culture.gouv.fr...  34.6167 2.8000   \n",
       "4      http://anom.archivesnationales.culture.gouv.fr...     50.1 1.8333   \n",
       "...                                                  ...             ...   \n",
       "14566  http://anom.archivesnationales.culture.gouv.fr...  48.5500 8.0167   \n",
       "14567  http://anom.archivesnationales.culture.gouv.fr...  50.7947 2.4275   \n",
       "14568  http://anom.archivesnationales.culture.gouv.fr...             NaN   \n",
       "14569  http://anom.archivesnationales.culture.gouv.fr...  34.9000 2.3500   \n",
       "14570  http://anom.archivesnationales.culture.gouv.fr...             NaN   \n",
       "\n",
       "             0       1 Administration_bis Lieu-dit_bis  \n",
       "0          NaN     NaN                                  \n",
       "1          NaN     NaN                                  \n",
       "2       6.2850  1.8118                                  \n",
       "3      34.6167  2.8000                                  \n",
       "4         50.1  1.8333             France               \n",
       "...        ...     ...                ...          ...  \n",
       "14566  48.5500  8.0167                                  \n",
       "14567  50.7947  2.4275             France               \n",
       "14568      NaN     NaN                                  \n",
       "14569  34.9000  2.3500                                  \n",
       "14570      NaN     NaN                                  \n",
       "\n",
       "[14571 rows x 11 columns]"
      ]
     },
     "execution_count": 33,
     "metadata": {},
     "output_type": "execute_result"
    }
   ],
   "source": [
    "df_IREL"
   ]
  },
  {
   "cell_type": "code",
   "execution_count": 34,
   "metadata": {
    "scrolled": true
   },
   "outputs": [],
   "source": [
    "#On récupère tous les noms de lieu: \n",
    "liste_colnames= ['Administration', 'NAME','Administration_bis',\n",
    "       'Lieu-dit_bis']\n",
    "\n",
    "liste_entites_clean=[]\n",
    "for colname in liste_colnames:\n",
    "    liste_entites_clean+=df_IREL[colname].to_list()\n",
    "    \n",
    "while None in liste_entites_clean:\n",
    "        liste_entites_clean.remove(None)\n",
    "\n",
    "liste_entites_clean\n",
    "\n",
    "#Avoir une liste avec 1seule occurence de nom de lieu :\n",
    "IREL_listeclean = pd.DataFrame(liste_entites_clean).rename(columns={0:\"entites\"})\n",
    "IREL_listeclean = IREL_listeclean.groupby(by=\"entites\").sum().index.values.tolist()"
   ]
  },
  {
   "cell_type": "code",
   "execution_count": 35,
   "metadata": {},
   "outputs": [],
   "source": [
    "# IREL_listeclean"
   ]
  },
  {
   "cell_type": "code",
   "execution_count": 36,
   "metadata": {},
   "outputs": [],
   "source": [
    "IREL_listeclean2=[]\n",
    "for placeName in IREL_listeclean:\n",
    "    \n",
    "    if re.search(r\" $\",placeName):\n",
    "        placeName=placeName.replace(re.search(r\" $\",placeName).group(0),\"\")    \n",
    "\n",
    "    if re.search(r\"^ \",placeName):\n",
    "        placeName=placeName.replace(re.search(r\"^ \",placeName).group(0),\"\")\n",
    "    \n",
    "    IREL_listeclean2.append(placeName)\n",
    "# IREL_listeclean2"
   ]
  },
  {
   "cell_type": "markdown",
   "metadata": {},
   "source": [
    "# Chercher quels noms de lieux de la liste de mon df se trouve dans celle des IREL  "
   ]
  },
  {
   "cell_type": "markdown",
   "metadata": {},
   "source": [
    "Comme on a déjà trouvé certains lieux avec GPH, on retire ceslieux de `list_GPELOC`"
   ]
  },
  {
   "cell_type": "code",
   "execution_count": 49,
   "metadata": {},
   "outputs": [
    {
     "data": {
      "text/html": [
       "<div>\n",
       "<style scoped>\n",
       "    .dataframe tbody tr th:only-of-type {\n",
       "        vertical-align: middle;\n",
       "    }\n",
       "\n",
       "    .dataframe tbody tr th {\n",
       "        vertical-align: top;\n",
       "    }\n",
       "\n",
       "    .dataframe thead th {\n",
       "        text-align: right;\n",
       "    }\n",
       "</style>\n",
       "<table border=\"1\" class=\"dataframe\">\n",
       "  <thead>\n",
       "    <tr style=\"text-align: right;\">\n",
       "      <th></th>\n",
       "      <th>NAME</th>\n",
       "      <th>Q_code</th>\n",
       "      <th>latitude</th>\n",
       "      <th>longitude</th>\n",
       "    </tr>\n",
       "  </thead>\n",
       "  <tbody>\n",
       "    <tr>\n",
       "      <th>0</th>\n",
       "      <td>Acores</td>\n",
       "      <td>NaN</td>\n",
       "      <td>NaN</td>\n",
       "      <td>NaN</td>\n",
       "    </tr>\n",
       "    <tr>\n",
       "      <th>1</th>\n",
       "      <td>Algérie</td>\n",
       "      <td>NaN</td>\n",
       "      <td>NaN</td>\n",
       "      <td>NaN</td>\n",
       "    </tr>\n",
       "    <tr>\n",
       "      <th>2</th>\n",
       "      <td>Allemagne</td>\n",
       "      <td>NaN</td>\n",
       "      <td>NaN</td>\n",
       "      <td>NaN</td>\n",
       "    </tr>\n",
       "    <tr>\n",
       "      <th>3</th>\n",
       "      <td>Angleterre</td>\n",
       "      <td>NaN</td>\n",
       "      <td>NaN</td>\n",
       "      <td>NaN</td>\n",
       "    </tr>\n",
       "    <tr>\n",
       "      <th>4</th>\n",
       "      <td>Annam</td>\n",
       "      <td>Q10828323</td>\n",
       "      <td>NaN</td>\n",
       "      <td>NaN</td>\n",
       "    </tr>\n",
       "    <tr>\n",
       "      <th>...</th>\n",
       "      <td>...</td>\n",
       "      <td>...</td>\n",
       "      <td>...</td>\n",
       "      <td>...</td>\n",
       "    </tr>\n",
       "    <tr>\n",
       "      <th>220</th>\n",
       "      <td>lac Tchad.</td>\n",
       "      <td>NaN</td>\n",
       "      <td>NaN</td>\n",
       "      <td>NaN</td>\n",
       "    </tr>\n",
       "    <tr>\n",
       "      <th>221</th>\n",
       "      <td>île de Saint-Barthélémy</td>\n",
       "      <td>NaN</td>\n",
       "      <td>NaN</td>\n",
       "      <td>NaN</td>\n",
       "    </tr>\n",
       "    <tr>\n",
       "      <th>222</th>\n",
       "      <td>île de Saint-Martin</td>\n",
       "      <td>NaN</td>\n",
       "      <td>NaN</td>\n",
       "      <td>NaN</td>\n",
       "    </tr>\n",
       "    <tr>\n",
       "      <th>223</th>\n",
       "      <td>île de la Réunion</td>\n",
       "      <td>NaN</td>\n",
       "      <td>NaN</td>\n",
       "      <td>NaN</td>\n",
       "    </tr>\n",
       "    <tr>\n",
       "      <th>224</th>\n",
       "      <td>îles Saint-Pierre</td>\n",
       "      <td>NaN</td>\n",
       "      <td>NaN</td>\n",
       "      <td>NaN</td>\n",
       "    </tr>\n",
       "  </tbody>\n",
       "</table>\n",
       "<p>225 rows × 4 columns</p>\n",
       "</div>"
      ],
      "text/plain": [
       "                        NAME     Q_code  latitude  longitude\n",
       "0                     Acores        NaN       NaN        NaN\n",
       "1                    Algérie        NaN       NaN        NaN\n",
       "2                  Allemagne        NaN       NaN        NaN\n",
       "3                 Angleterre        NaN       NaN        NaN\n",
       "4                      Annam  Q10828323       NaN        NaN\n",
       "..                       ...        ...       ...        ...\n",
       "220               lac Tchad.        NaN       NaN        NaN\n",
       "221  île de Saint-Barthélémy        NaN       NaN        NaN\n",
       "222      île de Saint-Martin        NaN       NaN        NaN\n",
       "223        île de la Réunion        NaN       NaN        NaN\n",
       "224        îles Saint-Pierre        NaN       NaN        NaN\n",
       "\n",
       "[225 rows x 4 columns]"
      ]
     },
     "execution_count": 49,
     "metadata": {},
     "output_type": "execute_result"
    }
   ],
   "source": [
    "df_GPELOC[\"latitude\"]"
   ]
  },
  {
   "cell_type": "code",
   "execution_count": 37,
   "metadata": {},
   "outputs": [
    {
     "name": "stdout",
     "output_type": "stream",
     "text": [
      "nombre d'occurences identifiablespar IREL :  112 \n",
      "nombre d'occurences non identifiables par IREL :  113\n",
      "2 outputs : \n",
      " 1/L_MatchDF_IREL\n",
      " 2/L_NotMatchDF_IREL\n"
     ]
    }
   ],
   "source": [
    "L_MatchDF_IREL, L_NotMatchDF_IREL =MatchGPELOC_IREL(list_GPELOC,IREL_listeclean2)"
   ]
  },
  {
   "cell_type": "markdown",
   "metadata": {},
   "source": [
    "#### EXPLORATION DES DEUX LISTES POUR COMPRENDRE CE QUI N'EST PAS PASSE "
   ]
  },
  {
   "cell_type": "code",
   "execution_count": 38,
   "metadata": {},
   "outputs": [],
   "source": [
    "from desambiguisation import EgaliserTaille_MatchNot_IREL,nettoyage_desambiguisation,MatchGPELOC_IREL"
   ]
  },
  {
   "cell_type": "code",
   "execution_count": 39,
   "metadata": {},
   "outputs": [
    {
     "name": "stdout",
     "output_type": "stream",
     "text": [
      "nouvelle taille L_Match_IREL2 113\n"
     ]
    }
   ],
   "source": [
    "# #pour que les deux listes aient la même longueur:\n",
    "# lengthDiff=len(L_NotMatchDF_IREL)-len(L_MatchDF_IREL)\n",
    "# L_MatchDF_IREL += list(np.empty(shape = (lengthDiff)))\n",
    "\n",
    "L_MatchDF_IREL,L_NotMatchDF_IREL=EgaliserTaille_MatchNot_IREL(L_MatchDF_IREL,L_NotMatchDF_IREL)\n",
    "\n",
    "comparaison_matchIREL = pd.DataFrame({'L_MatchDF_IREL' : L_MatchDF_IREL,\n",
    "                                'L_NotMatchDF_IREL' : L_NotMatchDF_IREL},\n",
    "                                columns=['L_MatchDF_IREL','L_NotMatchDF_IREL'])\n",
    "#Pour exploration manuelle\n",
    "comparaison_matchIREL.to_csv(\"./check_comparaisonMatchIREL.csv\")"
   ]
  },
  {
   "cell_type": "code",
   "execution_count": 40,
   "metadata": {},
   "outputs": [],
   "source": [
    "#dictionnaire pour la désambiguisation :\n",
    "Dico_desambiguisation = {\"Guinée Française\":[\"Guinée française\"],\n",
    "                         \"Côte d'Ivoire\":[\"côte d'Ivoire\"],\n",
    "                         \"Pak-Hoi\":[\"Pak-Hoï\",\"Pakhoï\"],\n",
    "                         \"Chengdu\":['Tchen-Tou','Tchentou'],\n",
    "                         \"Yunnan\":['Yun-Nam','Yun-Nan','Yunnam'],\n",
    "                         \"Hanoi\":[\"Hanoï\"],\n",
    "                         \"Laokay\":[\"Lao-kay\"],\n",
    "                         \"Côte d\\'Ivoire\":[\"Côte d'Ivoire\",\"côte d'Ivoire\"]\n",
    "                        }\n",
    "Liste_FP = [\"Annamite\",\"Annamites\",\"île\",\"Croyance\",\"Port\"]\n",
    "\n",
    "#Problemes:\n",
    "#Guinée trop flou pour être assigné à \"Guinée française\" car à la même époque existait\n",
    "# une Guinée allemande et une britannique..."
   ]
  },
  {
   "cell_type": "code",
   "execution_count": 41,
   "metadata": {},
   "outputs": [],
   "source": [
    "#Nettoyage en fonction de la désambiguisation \n",
    "liste_GPELOC = nettoyage_desambiguisation(Dico_desambiguisation,list_GPELOC)\n"
   ]
  },
  {
   "cell_type": "code",
   "execution_count": 42,
   "metadata": {},
   "outputs": [
    {
     "name": "stdout",
     "output_type": "stream",
     "text": [
      "nombre d'occurences identifiablespar IREL :  112 \n",
      "nombre d'occurences non identifiables par IREL :  113\n",
      "2 outputs : \n",
      " 1/L_MatchDF_IREL\n",
      " 2/L_NotMatchDF_IREL\n"
     ]
    }
   ],
   "source": [
    "L_MatchDF_IREL2, L_NotMatchDF_IREL2 = MatchGPELOC_IREL(list_GPELOC,IREL_listeclean2)"
   ]
  },
  {
   "cell_type": "code",
   "execution_count": 44,
   "metadata": {},
   "outputs": [],
   "source": [
    "#pour que les deux listes aient la même longueur:\n",
    "lengthDiff=abs(len(L_NotMatchDF_IREL2)-len(L_MatchDF_IREL2))\n",
    "\n",
    "if len(L_NotMatchDF_IREL2) > len(L_MatchDF_IREL2):\n",
    "    L_MatchDF_IREL2 += list(np.empty(shape = (lengthDiff)))\n",
    "    print(\"nouvelle taille L_Match_IREL2\",len(L_Match_IREL2))\n",
    "    \n",
    "elif len(L_NotMatchDF_IREL2) < len(L_MatchDF_IREL2):\n",
    "    L_NotMatchDF_IREL2 += list(np.empty(shape = (lengthDiff)))\n",
    "    print(\"nouvelle taille L_NotMatch_IREL2\",len(L_NotMatchDF_IREL2))\n",
    "\n",
    "else:\n",
    "    pass\n"
   ]
  },
  {
   "cell_type": "code",
   "execution_count": 45,
   "metadata": {},
   "outputs": [
    {
     "name": "stdout",
     "output_type": "stream",
     "text": [
      "Différence de taillent entre les deux listes :  0\n",
      "taille de L_NotMatchDF_IREL2 :  113\n",
      "taille de L_MatchDF_IREL2 :  113\n"
     ]
    }
   ],
   "source": [
    "print(\"Différence de taillent entre les deux listes : \",lengthDiff)\n",
    "print(\"taille de L_NotMatchDF_IREL2 : \",len(L_NotMatchDF_IREL2))\n",
    "print(\"taille de L_MatchDF_IREL2 : \",len(L_MatchDF_IREL2))\n",
    "\n",
    "comparaison_matchIREL = pd.DataFrame({'L_MatchDF_IREL' : L_MatchDF_IREL2,\n",
    "                                'L_NotMatchDF_IREL' : L_NotMatchDF_IREL2},\n",
    "                                columns=['L_MatchDF_IREL','L_NotMatchDF_IREL'])\n",
    "#Pour exploration manuelle\n",
    "comparaison_matchIREL.to_csv(\"./check_comparaisonMatchIREL.csv\")"
   ]
  },
  {
   "cell_type": "markdown",
   "metadata": {},
   "source": [
    "<h3>Pour les entités trouvées : les associer aux df AHMC et AMN</h3>"
   ]
  },
  {
   "cell_type": "code",
   "execution_count": 46,
   "metadata": {},
   "outputs": [],
   "source": [
    "comparaison_matchIREL.to_csv(\"./desambiguisation/comparaison_match_IREL.csv\")"
   ]
  },
  {
   "cell_type": "code",
   "execution_count": 47,
   "metadata": {},
   "outputs": [
    {
     "data": {
      "text/html": [
       "<div>\n",
       "<style scoped>\n",
       "    .dataframe tbody tr th:only-of-type {\n",
       "        vertical-align: middle;\n",
       "    }\n",
       "\n",
       "    .dataframe tbody tr th {\n",
       "        vertical-align: top;\n",
       "    }\n",
       "\n",
       "    .dataframe thead th {\n",
       "        text-align: right;\n",
       "    }\n",
       "</style>\n",
       "<table border=\"1\" class=\"dataframe\">\n",
       "  <thead>\n",
       "    <tr style=\"text-align: right;\">\n",
       "      <th></th>\n",
       "      <th>L_MatchDF_IREL</th>\n",
       "      <th>L_NotMatchDF_IREL</th>\n",
       "    </tr>\n",
       "  </thead>\n",
       "  <tbody>\n",
       "    <tr>\n",
       "      <th>0</th>\n",
       "      <td>Algérie</td>\n",
       "      <td>Acores</td>\n",
       "    </tr>\n",
       "    <tr>\n",
       "      <th>1</th>\n",
       "      <td>Allemagne</td>\n",
       "      <td>Angleterre</td>\n",
       "    </tr>\n",
       "    <tr>\n",
       "      <th>2</th>\n",
       "      <td>Bizerte</td>\n",
       "      <td>Annam</td>\n",
       "    </tr>\n",
       "    <tr>\n",
       "      <th>3</th>\n",
       "      <td>Bordeaux</td>\n",
       "      <td>Asie</td>\n",
       "    </tr>\n",
       "    <tr>\n",
       "      <th>4</th>\n",
       "      <td>Brest</td>\n",
       "      <td>Buenos-Ayres</td>\n",
       "    </tr>\n",
       "    <tr>\n",
       "      <th>...</th>\n",
       "      <td>...</td>\n",
       "      <td>...</td>\n",
       "    </tr>\n",
       "    <tr>\n",
       "      <th>108</th>\n",
       "      <td>Vinh</td>\n",
       "      <td>lac Tchad.</td>\n",
       "    </tr>\n",
       "    <tr>\n",
       "      <th>109</th>\n",
       "      <td>Wallis</td>\n",
       "      <td>île de Saint-Barthélémy</td>\n",
       "    </tr>\n",
       "    <tr>\n",
       "      <th>110</th>\n",
       "      <td>Yunnan</td>\n",
       "      <td>île de Saint-Martin</td>\n",
       "    </tr>\n",
       "    <tr>\n",
       "      <th>111</th>\n",
       "      <td>Zinder</td>\n",
       "      <td>île de la Réunion</td>\n",
       "    </tr>\n",
       "    <tr>\n",
       "      <th>112</th>\n",
       "      <td>6.90394e-310</td>\n",
       "      <td>îles Saint-Pierre</td>\n",
       "    </tr>\n",
       "  </tbody>\n",
       "</table>\n",
       "<p>113 rows × 2 columns</p>\n",
       "</div>"
      ],
      "text/plain": [
       "    L_MatchDF_IREL        L_NotMatchDF_IREL\n",
       "0          Algérie                   Acores\n",
       "1        Allemagne               Angleterre\n",
       "2          Bizerte                    Annam\n",
       "3         Bordeaux                     Asie\n",
       "4            Brest             Buenos-Ayres\n",
       "..             ...                      ...\n",
       "108           Vinh               lac Tchad.\n",
       "109         Wallis  île de Saint-Barthélémy\n",
       "110         Yunnan      île de Saint-Martin\n",
       "111         Zinder        île de la Réunion\n",
       "112   6.90394e-310        îles Saint-Pierre\n",
       "\n",
       "[113 rows x 2 columns]"
      ]
     },
     "execution_count": 47,
     "metadata": {},
     "output_type": "execute_result"
    }
   ],
   "source": [
    "comparaison_matchIREL"
   ]
  },
  {
   "cell_type": "markdown",
   "metadata": {},
   "source": [
    "#### Maintenant on cherche à extraire de ` df_IREL ` les coordonnées des lieux qui ont matché "
   ]
  },
  {
   "cell_type": "code",
   "execution_count": null,
   "metadata": {},
   "outputs": [],
   "source": [
    "df_ensemble = pd.DataFrame()\n",
    "for placeName in L_MatchDF_IREL2:\n",
    "    df_placeName=df_IREL.loc[df_IREL[\"titre\"].str.contains(placeName)]\n",
    "    df_placeName[\"placeName\"]=placeName\n",
    "    df_ensemble=pd.concat([df_ensemble,df_placeName])\n",
    "   "
   ]
  },
  {
   "cell_type": "code",
   "execution_count": null,
   "metadata": {},
   "outputs": [],
   "source": [
    "# df_ensemble[\"placeName\"]=df_ensemble[\"placeName\"].drop_duplicates(keep=\"first\")\n",
    "df_ensemble_byPlaceName = df_ensemble.groupby(by=\"placeName\").sum()"
   ]
  },
  {
   "cell_type": "code",
   "execution_count": null,
   "metadata": {},
   "outputs": [],
   "source": [
    "# df_ensemble_byPlaceName=df_ensemble_byPlaceName.drop(columns=[\"titre_encoded\",\"Administration_bis\",\"Lieu-dit_bis\"])\n",
    "df_ensemble_byPlaceName.to_csv(\"./desambiguisation/IREL_parlieuxreconnus.csv\")\n",
    "\n",
    "#Nécessité de nettoyer IREL_url des localisations multiples. Nous n'en avons pas besoin car il nous suffit d'avoir un point en sont sein \n",
    "# df_ensemble_byPlaceName[\"IREL_url\"].str."
   ]
  },
  {
   "cell_type": "code",
   "execution_count": null,
   "metadata": {},
   "outputs": [],
   "source": [
    "df_ensemble_byPlaceName"
   ]
  },
  {
   "cell_type": "code",
   "execution_count": null,
   "metadata": {},
   "outputs": [],
   "source": [
    "df_byPlaceName_freq = df_ensemble.groupby(by=\"placeName\").count().IREL_url\n",
    "df_byPlaceName_freq.sort_values(ascending=False).head(30)"
   ]
  },
  {
   "cell_type": "code",
   "execution_count": null,
   "metadata": {},
   "outputs": [],
   "source": [
    "df_byPlaceName_freq.loc[df_byPlaceName_freq<3000].plot()"
   ]
  },
  {
   "cell_type": "code",
   "execution_count": null,
   "metadata": {},
   "outputs": [],
   "source": []
  },
  {
   "cell_type": "markdown",
   "metadata": {},
   "source": [
    "# Geonames \n",
    "source: https://www.geonames.org/export/web-services.html\n",
    "\n",
    "username= lgrumbach"
   ]
  },
  {
   "cell_type": "code",
   "execution_count": null,
   "metadata": {
    "scrolled": true
   },
   "outputs": [],
   "source": [
    "URL=\"Chine\"\n",
    "\n",
    "Geonames_url_base =\"http://api.geonames.org/postalCodeLookupJSON?placename=\"+URL+\"&username=lgrumbach\"\n",
    "Geonames_url_base"
   ]
  },
  {
   "cell_type": "code",
   "execution_count": null,
   "metadata": {},
   "outputs": [],
   "source": []
  },
  {
   "cell_type": "code",
   "execution_count": null,
   "metadata": {},
   "outputs": [],
   "source": [
    "URL = urlencode(\"Abala, Subdivision (République du Congo)\")\n",
    "url_base"
   ]
  },
  {
   "cell_type": "markdown",
   "metadata": {},
   "source": [
    "# Etape 3 : trouver les coordonnées Wikidata GPH\n",
    "## LISTE DES PROPERTIES :  https://www.wikidata.org/wiki/Wikidata:Database_reports/List_of_properties/all \n",
    "\n",
    "## European Colonialism :https://www.wikidata.org/wiki/Wikidata:WikiProject_European_Colonialism\n",
    "\n",
    "## list of colonial empires:https://www.wikidata.org/wiki/Wikidata:WikiProject_European_Colonialism/list_of_colonial_empires"
   ]
  },
  {
   "cell_type": "markdown",
   "metadata": {},
   "source": [
    "REssource pour seformer à SPARQL sur Wikidata : \n",
    "https://www.wikidata.org/wiki/Wikidata:SPARQL_tutorial#SPARQL_basics\n",
    "\n",
    "\n",
    "Ce dont j'ai besoin:\n",
    "SELCT ?coord\n",
    "WHERE\n",
    "{\n",
    "#?coord has coord QID\n",
    "    ?coord wd:QID\n",
    "}\n",
    "\n",
    "\n",
    "Items= wd: /// properties = wdt:.  \n",
    "=> wdt AVANT wd\n",
    "\n",
    "* \";\" = AND\n",
    "* \".\" = fin d'une requête\n",
    "* \",\" = pour ajouter un item aux mêmes propriétés\n",
    "* \"[]\" = Recherche relative.  Inside the brackets, you can specify predicate-object pairs, just like after a ;\n",
    "* \"p\" : points not to the object, but to a statement node.\n",
    "    *  This node then is the subject of other triples: \n",
    "        * ps: (for property statement) points to the statement object,\n",
    "        * pq: (property qualifier) to qualifiers, \n",
    "        * prov:wasDerivedFrom points to reference nodes (which we’ll ignore for now).\n",
    "\n",
    "\n",
    "AJouter : \n",
    "SERVICE wikibase:label { bd:serviceParam wikibase:language \"[AUTO_LANGUAGE]\". }\n",
    "=> Sert à afficher le label associé à l'entité recherchée\n",
    "\n",
    "**Instances and classes**\n",
    "\n",
    "\"has\" // \"is\" \n",
    "[objet particulier] IS [concept/subclass] \n",
    "=> différencier concept et subclass -> essayer de remplacer \"is\" par \"is a kind of\". SI ça marche, c'est une subclass. Sinon un concept. \n",
    "ex: Gone with the wind \"is a kind of\" film =>  marche pas => film est un concept\n",
    "\n",
    "\n",
    "**Property paths**\n",
    "\n",
    "\n",
    "wdt:P31/wdt:P279/wdt:P279 \n",
    "P31 = nature de l'el\n",
    "P279 =sous-classede [eltavant]\n",
    "\n",
    "wdt:\n",
    "* **P31** = nature del'élt\n",
    "* **P625** = coordonnées géo\n",
    "* **P17**\t= country\n",
    "* **P530**\tdiplomatic relation\n",
    "* rdfs:label \"Mary Wollstonecraft\"@en;\n",
    "* **P945** =\tallegiance\tcountry (or other power) that the person or organization serves\n",
    "* **P1376**\tcapital of\tcountry, state, department, canton or other administrative division of which the municipality is the governmental seat\n",
    "* **P8119**\tHASC\tcodes to represent country subdivisions\n",
    "* **Q133156** colony \n",
    "* **Q161243** dependent territory\n",
    "\n",
    "=> pour éviter de listertoutes lessubclass, on peut écrire \"*\" ou \"+\" comme enregex\n",
    "\n",
    "**Qualifiers**\n",
    "\n",
    "\n",
    "\n",
    "\n",
    "**Globe oordinates**\n",
    "\n",
    "Coordinate text values have value type globecoordinate and property type globe-coordinate.\n",
    "\n",
    "The simple value of the coordinate is the WKT string with the coordinates, with type geo:wktLiteral, e.g.: \"Point(35.3 12.93)\"^^geo:wktLiteral. The order of the coordinates in WKT is longitude, latitude (since format version 0.0.2).\n",
    "\n",
    "The full value has latitude, longitude and precision as double, and the globe as IRI.\n",
    "\n",
    "\n",
    "**Wikibase Entity Id** \n",
    "\n",
    "Wikibase Entity Id values have value type wikibase-entityid and property type wikibase-item.\n"
   ]
  },
  {
   "cell_type": "code",
   "execution_count": null,
   "metadata": {},
   "outputs": [],
   "source": [
    "## Faire lien avec les données wikidata de GPH"
   ]
  },
  {
   "cell_type": "markdown",
   "metadata": {},
   "source": [
    "### Extraire les entity ID de chaque lien wikidata"
   ]
  },
  {
   "cell_type": "code",
   "execution_count": null,
   "metadata": {},
   "outputs": [],
   "source": [
    "def wikidata_extractID(df,ncol):\n",
    "\n",
    "    ListEntityID = []\n",
    "    for i in range (len(df)):\n",
    "        wikiurl = df.iloc[i,ncol]\n",
    "    #     print(type(wikiurl))\n",
    "        if type(wikiurl) is float:\n",
    "            ListEntityID.append(wikiurl)\n",
    "        else:\n",
    "            entityID = re.search(r'[A-Z][0-9]+$',wikiurl).group(0)\n",
    "            ListEntityID.append(entityID)\n",
    "    return ListEntityID"
   ]
  },
  {
   "cell_type": "code",
   "execution_count": null,
   "metadata": {},
   "outputs": [],
   "source": [
    "#wikidata\n",
    "wikiURL1 = wikidata_extractID(df_WikiQGIS,3)\n",
    "df_WikiQGIS[\"entityID_1\"]=wikiURL1\n",
    "\n",
    "#wikidata_alt1\n",
    "wikiURLalt1 = wikidata_extractID(df_WikiQGIS,4)\n",
    "df_WikiQGIS[\"entityID_alt1\"]=wikiURLalt1\n",
    "\n",
    "#wikidata_alt2\n",
    "wikiURLalt2 = wikidata_extractID(df_WikiQGIS,5)\n",
    "df_WikiQGIS[\"entityID_alt2\"]=wikiURLalt2\n",
    "\n",
    "#NB: il n'y a pas de wikidata_alt3 pour la période concernée\n",
    "df_WikiQGIS.iloc[2,14]\n",
    "df_WikiQGIS"
   ]
  },
  {
   "cell_type": "code",
   "execution_count": null,
   "metadata": {},
   "outputs": [],
   "source": [
    "df_WikiQGIS"
   ]
  },
  {
   "cell_type": "markdown",
   "metadata": {},
   "source": [
    "### Recherche des coordonnées via l'API wikidata"
   ]
  },
  {
   "cell_type": "code",
   "execution_count": null,
   "metadata": {},
   "outputs": [],
   "source": []
  },
  {
   "cell_type": "code",
   "execution_count": null,
   "metadata": {},
   "outputs": [],
   "source": []
  }
 ],
 "metadata": {
  "kernelspec": {
   "display_name": "Python 3",
   "language": "python",
   "name": "python3"
  },
  "language_info": {
   "codemirror_mode": {
    "name": "ipython",
    "version": 3
   },
   "file_extension": ".py",
   "mimetype": "text/x-python",
   "name": "python",
   "nbconvert_exporter": "python",
   "pygments_lexer": "ipython3",
   "version": "3.8.5"
  }
 },
 "nbformat": 4,
 "nbformat_minor": 4
}
